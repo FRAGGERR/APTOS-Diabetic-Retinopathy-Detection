{
 "cells": [
  {
   "cell_type": "code",
   "execution_count": 1,
   "metadata": {},
   "outputs": [],
   "source": [
    "import tensorflow as tf\n",
    "from tensorflow.keras import backend as K\n",
    "from tensorflow.keras.models import Model\n",
    "from tensorflow.keras.layers import Flatten, Dense, Dropout, Input\n",
    "from tensorflow.keras.optimizers import Adam\n",
    "from tensorflow.keras.applications import ResNet152V2\n",
    "from tensorflow.keras.preprocessing.image import ImageDataGenerator"
   ]
  },
  {
   "cell_type": "code",
   "execution_count": 2,
   "metadata": {},
   "outputs": [],
   "source": [
    "# Metrics\n",
    "def recall_m(y_true, y_pred):\n",
    "    true_positives = K.sum(K.round(K.clip(y_true * y_pred, 0, 1)))\n",
    "    possible_positives = K.sum(K.round(K.clip(y_true, 0, 1)))\n",
    "    recall = true_positives / (possible_positives + K.epsilon())\n",
    "    return recall\n",
    "\n",
    "def precision_m(y_true, y_pred):\n",
    "    true_positives = K.sum(K.round(K.clip(y_true * y_pred, 0, 1)))\n",
    "    predicted_positives = K.sum(K.round(K.clip(y_pred, 0, 1)))\n",
    "    precision = true_positives / (predicted_positives + K.epsilon())\n",
    "    return precision\n",
    "\n",
    "def f1_m(y_true, y_pred):\n",
    "    precision = precision_m(y_true, y_pred)\n",
    "    recall = recall_m(y_true, y_pred)\n",
    "    return 2*((precision*recall)/(precision+recall+K.epsilon()))"
   ]
  },
  {
   "cell_type": "code",
   "execution_count": 3,
   "metadata": {},
   "outputs": [
    {
     "name": "stdout",
     "output_type": "stream",
     "text": [
      "Found 3298 images belonging to 5 classes.\n",
      "Found 364 images belonging to 5 classes.\n"
     ]
    }
   ],
   "source": [
    "# Data generators with rescaling\n",
    "train_datagen_with_aug = ImageDataGenerator(rescale=1./255, validation_split=0.1)\n",
    "\n",
    "train_generator = train_datagen_with_aug.flow_from_directory(\n",
    "    r'/Users/hardikchhipa/Desktop/DR-Arvind/Aravind eye dataset/aptos2019-blindness-detection/train_split',\n",
    "    target_size=(224, 224),  # Resize images to a fixed size\n",
    "    batch_size=32,\n",
    "    class_mode='categorical',\n",
    "    subset='training'\n",
    ")\n",
    "\n",
    "validation_generator = train_datagen_with_aug.flow_from_directory(\n",
    "    r'/Users/hardikchhipa/Desktop/DR-Arvind/Aravind eye dataset/aptos2019-blindness-detection/train_split',\n",
    "    target_size=(224, 224),  # Resize images to a fixed size\n",
    "    batch_size=32,\n",
    "    class_mode='categorical',\n",
    "    subset='validation'\n",
    ")"
   ]
  },
  {
   "cell_type": "code",
   "execution_count": 5,
   "metadata": {},
   "outputs": [
    {
     "name": "stdout",
     "output_type": "stream",
     "text": [
      "Downloading data from https://storage.googleapis.com/tensorflow/keras-applications/resnet/resnet152v2_weights_tf_dim_ordering_tf_kernels_notop.h5\n",
      "\u001b[1m234545216/234545216\u001b[0m \u001b[32m━━━━━━━━━━━━━━━━━━━━\u001b[0m\u001b[37m\u001b[0m \u001b[1m15s\u001b[0m 0us/step\n",
      "Epoch 1/25\n"
     ]
    },
    {
     "name": "stderr",
     "output_type": "stream",
     "text": [
      "/opt/anaconda3/lib/python3.12/site-packages/keras/src/trainers/data_adapters/py_dataset_adapter.py:121: UserWarning: Your `PyDataset` class should call `super().__init__(**kwargs)` in its constructor. `**kwargs` can include `workers`, `use_multiprocessing`, `max_queue_size`. Do not pass these arguments to `fit()`, as they will be ignored.\n",
      "  self._warn_if_super_not_called()\n",
      "2024-09-05 17:23:38.849708: I tensorflow/core/kernels/data/shuffle_dataset_op.cc:450] ShuffleDatasetV3:2: Filling up shuffle buffer (this may take a while): 4 of 8\n",
      "2024-09-05 17:23:48.191131: I tensorflow/core/kernels/data/shuffle_dataset_op.cc:480] Shuffle buffer filled.\n"
     ]
    },
    {
     "name": "stdout",
     "output_type": "stream",
     "text": [
      "\u001b[1m104/104\u001b[0m \u001b[32m━━━━━━━━━━━━━━━━━━━━\u001b[0m\u001b[37m\u001b[0m \u001b[1m1054s\u001b[0m 10s/step - accuracy: 0.6075 - f1_m: 0.5972 - loss: 12.2504 - precision_m: 0.6094 - recall_m: 0.5900 - val_accuracy: 0.6841 - val_f1_m: 0.7013 - val_loss: 0.8514 - val_precision_m: 0.7363 - val_recall_m: 0.6701\n",
      "Epoch 2/25\n"
     ]
    },
    {
     "name": "stderr",
     "output_type": "stream",
     "text": [
      "2024-09-05 17:41:04.319382: I tensorflow/core/kernels/data/shuffle_dataset_op.cc:450] ShuffleDatasetV3:2: Filling up shuffle buffer (this may take a while): 5 of 8\n",
      "2024-09-05 17:41:11.595229: I tensorflow/core/kernels/data/shuffle_dataset_op.cc:480] Shuffle buffer filled.\n"
     ]
    },
    {
     "name": "stdout",
     "output_type": "stream",
     "text": [
      "\u001b[1m104/104\u001b[0m \u001b[32m━━━━━━━━━━━━━━━━━━━━\u001b[0m\u001b[37m\u001b[0m \u001b[1m1017s\u001b[0m 10s/step - accuracy: 0.7687 - f1_m: 0.7678 - loss: 0.7252 - precision_m: 0.8009 - recall_m: 0.7385 - val_accuracy: 0.7033 - val_f1_m: 0.6879 - val_loss: 0.8872 - val_precision_m: 0.7146 - val_recall_m: 0.6641\n",
      "Epoch 3/25\n"
     ]
    },
    {
     "name": "stderr",
     "output_type": "stream",
     "text": [
      "2024-09-05 17:57:59.452267: I tensorflow/core/kernels/data/shuffle_dataset_op.cc:450] ShuffleDatasetV3:2: Filling up shuffle buffer (this may take a while): 4 of 8\n",
      "2024-09-05 17:58:09.806559: I tensorflow/core/kernels/data/shuffle_dataset_op.cc:480] Shuffle buffer filled.\n"
     ]
    },
    {
     "name": "stdout",
     "output_type": "stream",
     "text": [
      "\u001b[1m104/104\u001b[0m \u001b[32m━━━━━━━━━━━━━━━━━━━━\u001b[0m\u001b[37m\u001b[0m \u001b[1m946s\u001b[0m 9s/step - accuracy: 0.7740 - f1_m: 0.7700 - loss: 0.6945 - precision_m: 0.7993 - recall_m: 0.7438 - val_accuracy: 0.7335 - val_f1_m: 0.7364 - val_loss: 0.7077 - val_precision_m: 0.7967 - val_recall_m: 0.6858\n",
      "Epoch 4/25\n"
     ]
    },
    {
     "name": "stderr",
     "output_type": "stream",
     "text": [
      "2024-09-05 18:13:45.734335: I tensorflow/core/kernels/data/shuffle_dataset_op.cc:450] ShuffleDatasetV3:2: Filling up shuffle buffer (this may take a while): 4 of 8\n",
      "2024-09-05 18:13:57.508102: I tensorflow/core/kernels/data/shuffle_dataset_op.cc:480] Shuffle buffer filled.\n"
     ]
    },
    {
     "name": "stdout",
     "output_type": "stream",
     "text": [
      "\u001b[1m104/104\u001b[0m \u001b[32m━━━━━━━━━━━━━━━━━━━━\u001b[0m\u001b[37m\u001b[0m \u001b[1m934s\u001b[0m 9s/step - accuracy: 0.8275 - f1_m: 0.8273 - loss: 0.5044 - precision_m: 0.8605 - recall_m: 0.7990 - val_accuracy: 0.7500 - val_f1_m: 0.7490 - val_loss: 0.7650 - val_precision_m: 0.7989 - val_recall_m: 0.7057\n",
      "Epoch 5/25\n"
     ]
    },
    {
     "name": "stderr",
     "output_type": "stream",
     "text": [
      "2024-09-05 18:29:20.516304: I tensorflow/core/kernels/data/shuffle_dataset_op.cc:450] ShuffleDatasetV3:2: Filling up shuffle buffer (this may take a while): 4 of 8\n",
      "2024-09-05 18:29:31.788312: I tensorflow/core/kernels/data/shuffle_dataset_op.cc:480] Shuffle buffer filled.\n"
     ]
    },
    {
     "name": "stdout",
     "output_type": "stream",
     "text": [
      "\u001b[1m104/104\u001b[0m \u001b[32m━━━━━━━━━━━━━━━━━━━━\u001b[0m\u001b[37m\u001b[0m \u001b[1m941s\u001b[0m 9s/step - accuracy: 0.8425 - f1_m: 0.8434 - loss: 0.4556 - precision_m: 0.8729 - recall_m: 0.8167 - val_accuracy: 0.7830 - val_f1_m: 0.7872 - val_loss: 0.7547 - val_precision_m: 0.8086 - val_recall_m: 0.7674\n",
      "Epoch 6/25\n"
     ]
    },
    {
     "name": "stderr",
     "output_type": "stream",
     "text": [
      "2024-09-05 18:45:01.143860: I tensorflow/core/kernels/data/shuffle_dataset_op.cc:450] ShuffleDatasetV3:2: Filling up shuffle buffer (this may take a while): 5 of 8\n",
      "2024-09-05 18:45:09.899172: I tensorflow/core/kernels/data/shuffle_dataset_op.cc:480] Shuffle buffer filled.\n"
     ]
    },
    {
     "name": "stdout",
     "output_type": "stream",
     "text": [
      "\u001b[1m104/104\u001b[0m \u001b[32m━━━━━━━━━━━━━━━━━━━━\u001b[0m\u001b[37m\u001b[0m \u001b[1m928s\u001b[0m 9s/step - accuracy: 0.8777 - f1_m: 0.8776 - loss: 0.3806 - precision_m: 0.8936 - recall_m: 0.8627 - val_accuracy: 0.7637 - val_f1_m: 0.7729 - val_loss: 0.8885 - val_precision_m: 0.7910 - val_recall_m: 0.7561\n",
      "Epoch 7/25\n"
     ]
    },
    {
     "name": "stderr",
     "output_type": "stream",
     "text": [
      "2024-09-05 19:00:28.654251: I tensorflow/core/kernels/data/shuffle_dataset_op.cc:450] ShuffleDatasetV3:2: Filling up shuffle buffer (this may take a while): 4 of 8\n",
      "2024-09-05 19:00:38.275697: I tensorflow/core/kernels/data/shuffle_dataset_op.cc:480] Shuffle buffer filled.\n"
     ]
    },
    {
     "name": "stdout",
     "output_type": "stream",
     "text": [
      "\u001b[1m104/104\u001b[0m \u001b[32m━━━━━━━━━━━━━━━━━━━━\u001b[0m\u001b[37m\u001b[0m \u001b[1m942s\u001b[0m 9s/step - accuracy: 0.9035 - f1_m: 0.9067 - loss: 0.2850 - precision_m: 0.9230 - recall_m: 0.8916 - val_accuracy: 0.7775 - val_f1_m: 0.7766 - val_loss: 0.8631 - val_precision_m: 0.7967 - val_recall_m: 0.7578\n",
      "Epoch 8/25\n"
     ]
    },
    {
     "name": "stderr",
     "output_type": "stream",
     "text": [
      "2024-09-05 19:16:11.750128: I tensorflow/core/kernels/data/shuffle_dataset_op.cc:450] ShuffleDatasetV3:2: Filling up shuffle buffer (this may take a while): 5 of 8\n",
      "2024-09-05 19:16:19.923237: I tensorflow/core/kernels/data/shuffle_dataset_op.cc:480] Shuffle buffer filled.\n"
     ]
    },
    {
     "name": "stdout",
     "output_type": "stream",
     "text": [
      "\u001b[1m104/104\u001b[0m \u001b[32m━━━━━━━━━━━━━━━━━━━━\u001b[0m\u001b[37m\u001b[0m \u001b[1m1006s\u001b[0m 9s/step - accuracy: 0.9224 - f1_m: 0.9234 - loss: 0.2468 - precision_m: 0.9331 - recall_m: 0.9141 - val_accuracy: 0.7555 - val_f1_m: 0.7574 - val_loss: 0.8601 - val_precision_m: 0.7829 - val_recall_m: 0.7344\n",
      "Epoch 9/25\n"
     ]
    },
    {
     "name": "stderr",
     "output_type": "stream",
     "text": [
      "2024-09-05 19:32:57.313646: I tensorflow/core/kernels/data/shuffle_dataset_op.cc:450] ShuffleDatasetV3:2: Filling up shuffle buffer (this may take a while): 4 of 8\n",
      "2024-09-05 19:33:07.185152: I tensorflow/core/kernels/data/shuffle_dataset_op.cc:480] Shuffle buffer filled.\n"
     ]
    },
    {
     "name": "stdout",
     "output_type": "stream",
     "text": [
      "\u001b[1m104/104\u001b[0m \u001b[32m━━━━━━━━━━━━━━━━━━━━\u001b[0m\u001b[37m\u001b[0m \u001b[1m934s\u001b[0m 9s/step - accuracy: 0.9342 - f1_m: 0.9337 - loss: 0.2362 - precision_m: 0.9434 - recall_m: 0.9246 - val_accuracy: 0.7720 - val_f1_m: 0.7672 - val_loss: 1.1895 - val_precision_m: 0.7744 - val_recall_m: 0.7604\n",
      "Epoch 10/25\n"
     ]
    },
    {
     "name": "stderr",
     "output_type": "stream",
     "text": [
      "2024-09-05 19:48:31.889901: I tensorflow/core/kernels/data/shuffle_dataset_op.cc:450] ShuffleDatasetV3:2: Filling up shuffle buffer (this may take a while): 4 of 8\n",
      "2024-09-05 19:48:43.303069: I tensorflow/core/kernels/data/shuffle_dataset_op.cc:480] Shuffle buffer filled.\n"
     ]
    },
    {
     "name": "stdout",
     "output_type": "stream",
     "text": [
      "\u001b[1m104/104\u001b[0m \u001b[32m━━━━━━━━━━━━━━━━━━━━\u001b[0m\u001b[37m\u001b[0m \u001b[1m922s\u001b[0m 9s/step - accuracy: 0.9196 - f1_m: 0.9218 - loss: 0.2166 - precision_m: 0.9286 - recall_m: 0.9153 - val_accuracy: 0.7967 - val_f1_m: 0.8010 - val_loss: 0.8845 - val_precision_m: 0.8063 - val_recall_m: 0.7960\n",
      "Epoch 11/25\n"
     ]
    },
    {
     "name": "stderr",
     "output_type": "stream",
     "text": [
      "2024-09-05 20:03:53.168564: I tensorflow/core/kernels/data/shuffle_dataset_op.cc:450] ShuffleDatasetV3:2: Filling up shuffle buffer (this may take a while): 4 of 8\n",
      "2024-09-05 20:04:03.547638: I tensorflow/core/kernels/data/shuffle_dataset_op.cc:480] Shuffle buffer filled.\n"
     ]
    },
    {
     "name": "stdout",
     "output_type": "stream",
     "text": [
      "\u001b[1m104/104\u001b[0m \u001b[32m━━━━━━━━━━━━━━━━━━━━\u001b[0m\u001b[37m\u001b[0m \u001b[1m1003s\u001b[0m 9s/step - accuracy: 0.9425 - f1_m: 0.9421 - loss: 0.1836 - precision_m: 0.9487 - recall_m: 0.9358 - val_accuracy: 0.7582 - val_f1_m: 0.7514 - val_loss: 0.9167 - val_precision_m: 0.7650 - val_recall_m: 0.7387\n",
      "Epoch 12/25\n"
     ]
    },
    {
     "name": "stderr",
     "output_type": "stream",
     "text": [
      "2024-09-05 20:20:36.620386: I tensorflow/core/kernels/data/shuffle_dataset_op.cc:450] ShuffleDatasetV3:2: Filling up shuffle buffer (this may take a while): 4 of 8\n",
      "2024-09-05 20:20:45.620135: I tensorflow/core/kernels/data/shuffle_dataset_op.cc:480] Shuffle buffer filled.\n"
     ]
    },
    {
     "name": "stdout",
     "output_type": "stream",
     "text": [
      "\u001b[1m104/104\u001b[0m \u001b[32m━━━━━━━━━━━━━━━━━━━━\u001b[0m\u001b[37m\u001b[0m \u001b[1m1123s\u001b[0m 11s/step - accuracy: 0.9441 - f1_m: 0.9438 - loss: 0.1777 - precision_m: 0.9479 - recall_m: 0.9399 - val_accuracy: 0.7555 - val_f1_m: 0.7593 - val_loss: 0.9585 - val_precision_m: 0.7720 - val_recall_m: 0.7474\n",
      "Epoch 13/25\n"
     ]
    },
    {
     "name": "stderr",
     "output_type": "stream",
     "text": [
      "2024-09-05 20:39:18.734886: I tensorflow/core/kernels/data/shuffle_dataset_op.cc:450] ShuffleDatasetV3:2: Filling up shuffle buffer (this may take a while): 4 of 8\n",
      "2024-09-05 20:39:28.825086: I tensorflow/core/kernels/data/shuffle_dataset_op.cc:480] Shuffle buffer filled.\n"
     ]
    },
    {
     "name": "stdout",
     "output_type": "stream",
     "text": [
      "\u001b[1m104/104\u001b[0m \u001b[32m━━━━━━━━━━━━━━━━━━━━\u001b[0m\u001b[37m\u001b[0m \u001b[1m1041s\u001b[0m 10s/step - accuracy: 0.9418 - f1_m: 0.9435 - loss: 0.1960 - precision_m: 0.9488 - recall_m: 0.9384 - val_accuracy: 0.7802 - val_f1_m: 0.7856 - val_loss: 1.0864 - val_precision_m: 0.7911 - val_recall_m: 0.7804\n",
      "Epoch 14/25\n"
     ]
    },
    {
     "name": "stderr",
     "output_type": "stream",
     "text": [
      "2024-09-05 20:56:39.189589: I tensorflow/core/kernels/data/shuffle_dataset_op.cc:450] ShuffleDatasetV3:2: Filling up shuffle buffer (this may take a while): 4 of 8\n",
      "2024-09-05 20:56:49.538607: I tensorflow/core/kernels/data/shuffle_dataset_op.cc:480] Shuffle buffer filled.\n"
     ]
    },
    {
     "name": "stdout",
     "output_type": "stream",
     "text": [
      "\u001b[1m104/104\u001b[0m \u001b[32m━━━━━━━━━━━━━━━━━━━━\u001b[0m\u001b[37m\u001b[0m \u001b[1m1003s\u001b[0m 9s/step - accuracy: 0.9447 - f1_m: 0.9434 - loss: 0.1958 - precision_m: 0.9469 - recall_m: 0.9400 - val_accuracy: 0.7857 - val_f1_m: 0.7838 - val_loss: 0.9552 - val_precision_m: 0.7891 - val_recall_m: 0.7786\n",
      "Epoch 15/25\n"
     ]
    },
    {
     "name": "stderr",
     "output_type": "stream",
     "text": [
      "2024-09-05 21:13:23.985243: I tensorflow/core/kernels/data/shuffle_dataset_op.cc:450] ShuffleDatasetV3:2: Filling up shuffle buffer (this may take a while): 3 of 8\n",
      "2024-09-05 21:13:36.560526: I tensorflow/core/kernels/data/shuffle_dataset_op.cc:480] Shuffle buffer filled.\n"
     ]
    },
    {
     "name": "stdout",
     "output_type": "stream",
     "text": [
      "\u001b[1m104/104\u001b[0m \u001b[32m━━━━━━━━━━━━━━━━━━━━\u001b[0m\u001b[37m\u001b[0m \u001b[1m1216s\u001b[0m 11s/step - accuracy: 0.9504 - f1_m: 0.9513 - loss: 0.1766 - precision_m: 0.9541 - recall_m: 0.9486 - val_accuracy: 0.7665 - val_f1_m: 0.7687 - val_loss: 1.1240 - val_precision_m: 0.7773 - val_recall_m: 0.7604\n",
      "Epoch 16/25\n"
     ]
    },
    {
     "name": "stderr",
     "output_type": "stream",
     "text": [
      "2024-09-05 21:33:38.269309: I tensorflow/core/kernels/data/shuffle_dataset_op.cc:450] ShuffleDatasetV3:2: Filling up shuffle buffer (this may take a while): 4 of 8\n",
      "2024-09-05 21:33:48.200953: I tensorflow/core/kernels/data/shuffle_dataset_op.cc:480] Shuffle buffer filled.\n"
     ]
    },
    {
     "name": "stdout",
     "output_type": "stream",
     "text": [
      "\u001b[1m104/104\u001b[0m \u001b[32m━━━━━━━━━━━━━━━━━━━━\u001b[0m\u001b[37m\u001b[0m \u001b[1m1014s\u001b[0m 10s/step - accuracy: 0.9316 - f1_m: 0.9343 - loss: 0.2111 - precision_m: 0.9397 - recall_m: 0.9290 - val_accuracy: 0.7555 - val_f1_m: 0.7565 - val_loss: 1.0962 - val_precision_m: 0.7662 - val_recall_m: 0.7474\n",
      "Epoch 17/25\n"
     ]
    },
    {
     "name": "stderr",
     "output_type": "stream",
     "text": [
      "2024-09-05 21:50:32.519927: I tensorflow/core/kernels/data/shuffle_dataset_op.cc:450] ShuffleDatasetV3:2: Filling up shuffle buffer (this may take a while): 4 of 8\n",
      "2024-09-05 21:50:43.176671: I tensorflow/core/kernels/data/shuffle_dataset_op.cc:480] Shuffle buffer filled.\n"
     ]
    },
    {
     "name": "stdout",
     "output_type": "stream",
     "text": [
      "\u001b[1m104/104\u001b[0m \u001b[32m━━━━━━━━━━━━━━━━━━━━\u001b[0m\u001b[37m\u001b[0m \u001b[1m989s\u001b[0m 9s/step - accuracy: 0.9372 - f1_m: 0.9388 - loss: 0.1922 - precision_m: 0.9442 - recall_m: 0.9336 - val_accuracy: 0.7802 - val_f1_m: 0.7874 - val_loss: 1.0442 - val_precision_m: 0.7948 - val_recall_m: 0.7804\n",
      "Epoch 18/25\n"
     ]
    },
    {
     "name": "stderr",
     "output_type": "stream",
     "text": [
      "2024-09-05 22:07:02.395400: I tensorflow/core/kernels/data/shuffle_dataset_op.cc:450] ShuffleDatasetV3:2: Filling up shuffle buffer (this may take a while): 4 of 8\n",
      "2024-09-05 22:07:13.533298: I tensorflow/core/kernels/data/shuffle_dataset_op.cc:480] Shuffle buffer filled.\n"
     ]
    },
    {
     "name": "stdout",
     "output_type": "stream",
     "text": [
      "\u001b[1m104/104\u001b[0m \u001b[32m━━━━━━━━━━━━━━━━━━━━\u001b[0m\u001b[37m\u001b[0m \u001b[1m881s\u001b[0m 8s/step - accuracy: 0.9530 - f1_m: 0.9546 - loss: 0.1489 - precision_m: 0.9576 - recall_m: 0.9518 - val_accuracy: 0.7747 - val_f1_m: 0.7584 - val_loss: 1.0795 - val_precision_m: 0.7664 - val_recall_m: 0.7509\n",
      "Epoch 19/25\n"
     ]
    },
    {
     "name": "stderr",
     "output_type": "stream",
     "text": [
      "2024-09-05 22:21:41.659597: I tensorflow/core/kernels/data/shuffle_dataset_op.cc:450] ShuffleDatasetV3:2: Filling up shuffle buffer (this may take a while): 4 of 8\n",
      "2024-09-05 22:21:51.254662: I tensorflow/core/kernels/data/shuffle_dataset_op.cc:480] Shuffle buffer filled.\n"
     ]
    },
    {
     "name": "stdout",
     "output_type": "stream",
     "text": [
      "\u001b[1m104/104\u001b[0m \u001b[32m━━━━━━━━━━━━━━━━━━━━\u001b[0m\u001b[37m\u001b[0m \u001b[1m870s\u001b[0m 8s/step - accuracy: 0.9650 - f1_m: 0.9664 - loss: 0.1065 - precision_m: 0.9679 - recall_m: 0.9650 - val_accuracy: 0.7637 - val_f1_m: 0.7704 - val_loss: 1.2093 - val_precision_m: 0.7735 - val_recall_m: 0.7674\n",
      "Epoch 20/25\n"
     ]
    },
    {
     "name": "stderr",
     "output_type": "stream",
     "text": [
      "2024-09-05 22:36:13.358736: I tensorflow/core/kernels/data/shuffle_dataset_op.cc:450] ShuffleDatasetV3:2: Filling up shuffle buffer (this may take a while): 4 of 8\n",
      "2024-09-05 22:36:25.605156: I tensorflow/core/kernels/data/shuffle_dataset_op.cc:480] Shuffle buffer filled.\n"
     ]
    },
    {
     "name": "stdout",
     "output_type": "stream",
     "text": [
      "\u001b[1m104/104\u001b[0m \u001b[32m━━━━━━━━━━━━━━━━━━━━\u001b[0m\u001b[37m\u001b[0m \u001b[1m963s\u001b[0m 9s/step - accuracy: 0.9544 - f1_m: 0.9565 - loss: 0.1582 - precision_m: 0.9594 - recall_m: 0.9536 - val_accuracy: 0.7527 - val_f1_m: 0.7461 - val_loss: 1.1462 - val_precision_m: 0.7551 - val_recall_m: 0.7378\n",
      "Epoch 21/25\n"
     ]
    },
    {
     "name": "stderr",
     "output_type": "stream",
     "text": [
      "2024-09-05 22:52:14.807491: I tensorflow/core/kernels/data/shuffle_dataset_op.cc:450] ShuffleDatasetV3:2: Filling up shuffle buffer (this may take a while): 5 of 8\n",
      "2024-09-05 22:52:22.932087: I tensorflow/core/kernels/data/shuffle_dataset_op.cc:480] Shuffle buffer filled.\n"
     ]
    },
    {
     "name": "stdout",
     "output_type": "stream",
     "text": [
      "\u001b[1m104/104\u001b[0m \u001b[32m━━━━━━━━━━━━━━━━━━━━\u001b[0m\u001b[37m\u001b[0m \u001b[1m1023s\u001b[0m 10s/step - accuracy: 0.9532 - f1_m: 0.9552 - loss: 0.1675 - precision_m: 0.9574 - recall_m: 0.9530 - val_accuracy: 0.7775 - val_f1_m: 0.7756 - val_loss: 1.0434 - val_precision_m: 0.7918 - val_recall_m: 0.7604\n",
      "Epoch 22/25\n"
     ]
    },
    {
     "name": "stderr",
     "output_type": "stream",
     "text": [
      "2024-09-05 23:09:18.640149: I tensorflow/core/kernels/data/shuffle_dataset_op.cc:450] ShuffleDatasetV3:2: Filling up shuffle buffer (this may take a while): 4 of 8\n",
      "2024-09-05 23:09:29.993150: I tensorflow/core/kernels/data/shuffle_dataset_op.cc:480] Shuffle buffer filled.\n"
     ]
    },
    {
     "name": "stdout",
     "output_type": "stream",
     "text": [
      "\u001b[1m104/104\u001b[0m \u001b[32m━━━━━━━━━━━━━━━━━━━━\u001b[0m\u001b[37m\u001b[0m \u001b[1m1041s\u001b[0m 10s/step - accuracy: 0.9664 - f1_m: 0.9688 - loss: 0.0994 - precision_m: 0.9723 - recall_m: 0.9655 - val_accuracy: 0.7692 - val_f1_m: 0.7713 - val_loss: 1.1056 - val_precision_m: 0.7744 - val_recall_m: 0.7682\n",
      "Epoch 23/25\n"
     ]
    },
    {
     "name": "stderr",
     "output_type": "stream",
     "text": [
      "2024-09-05 23:26:39.164405: I tensorflow/core/kernels/data/shuffle_dataset_op.cc:450] ShuffleDatasetV3:2: Filling up shuffle buffer (this may take a while): 5 of 8\n",
      "2024-09-05 23:26:47.248436: I tensorflow/core/kernels/data/shuffle_dataset_op.cc:480] Shuffle buffer filled.\n"
     ]
    },
    {
     "name": "stdout",
     "output_type": "stream",
     "text": [
      "\u001b[1m104/104\u001b[0m \u001b[32m━━━━━━━━━━━━━━━━━━━━\u001b[0m\u001b[37m\u001b[0m \u001b[1m1011s\u001b[0m 10s/step - accuracy: 0.9427 - f1_m: 0.9320 - loss: 0.2094 - precision_m: 0.9343 - recall_m: 0.9298 - val_accuracy: 0.7747 - val_f1_m: 0.7723 - val_loss: 1.1689 - val_precision_m: 0.7774 - val_recall_m: 0.7674\n",
      "Epoch 24/25\n"
     ]
    },
    {
     "name": "stderr",
     "output_type": "stream",
     "text": [
      "2024-09-05 23:43:29.721046: I tensorflow/core/kernels/data/shuffle_dataset_op.cc:450] ShuffleDatasetV3:2: Filling up shuffle buffer (this may take a while): 4 of 8\n",
      "2024-09-05 23:43:39.431839: I tensorflow/core/kernels/data/shuffle_dataset_op.cc:480] Shuffle buffer filled.\n"
     ]
    },
    {
     "name": "stdout",
     "output_type": "stream",
     "text": [
      "\u001b[1m104/104\u001b[0m \u001b[32m━━━━━━━━━━━━━━━━━━━━\u001b[0m\u001b[37m\u001b[0m \u001b[1m1022s\u001b[0m 10s/step - accuracy: 0.9727 - f1_m: 0.9744 - loss: 0.0902 - precision_m: 0.9761 - recall_m: 0.9728 - val_accuracy: 0.7720 - val_f1_m: 0.7695 - val_loss: 1.1954 - val_precision_m: 0.7725 - val_recall_m: 0.7665\n",
      "Epoch 25/25\n"
     ]
    },
    {
     "name": "stderr",
     "output_type": "stream",
     "text": [
      "2024-09-06 00:00:31.245022: I tensorflow/core/kernels/data/shuffle_dataset_op.cc:450] ShuffleDatasetV3:2: Filling up shuffle buffer (this may take a while): 4 of 8\n",
      "2024-09-06 00:00:41.865303: I tensorflow/core/kernels/data/shuffle_dataset_op.cc:480] Shuffle buffer filled.\n"
     ]
    },
    {
     "name": "stdout",
     "output_type": "stream",
     "text": [
      "\u001b[1m104/104\u001b[0m \u001b[32m━━━━━━━━━━━━━━━━━━━━\u001b[0m\u001b[37m\u001b[0m \u001b[1m995s\u001b[0m 9s/step - accuracy: 0.9644 - f1_m: 0.9648 - loss: 0.1455 - precision_m: 0.9658 - recall_m: 0.9639 - val_accuracy: 0.7802 - val_f1_m: 0.7862 - val_loss: 1.0965 - val_precision_m: 0.7904 - val_recall_m: 0.7821\n",
      "{'accuracy': [0.6440266966819763, 0.7601576447486877, 0.787446916103363, 0.8174651265144348, 0.8453608155250549, 0.8696179389953613, 0.9023650884628296, 0.9229836463928223, 0.9284414649009705, 0.9229836463928223, 0.9420861005783081, 0.9375379085540771, 0.9393571615219116, 0.9399636387825012, 0.9408732652664185, 0.9354153871536255, 0.9372346997261047, 0.952092170715332, 0.9581564664840698, 0.9487568140029907, 0.9545179009437561, 0.9663432240486145, 0.9487568140029907, 0.9678593277931213, 0.9630078673362732], 'f1_m': [0.6420624852180481, 0.7521882653236389, 0.7875672578811646, 0.8170341849327087, 0.8452304005622864, 0.8697047829627991, 0.9045072793960571, 0.9234873056411743, 0.9289159774780273, 0.9255064725875854, 0.9426976442337036, 0.938639760017395, 0.9411048293113708, 0.9394304752349854, 0.941190779209137, 0.9369592666625977, 0.9387191534042358, 0.9529523253440857, 0.9594539999961853, 0.949790894985199, 0.9552075862884521, 0.9671805500984192, 0.9445818662643433, 0.9701327681541443, 0.9631074666976929], 'loss': [5.339631080627441, 0.7775649428367615, 0.6312791109085083, 0.5573698878288269, 0.47288787364959717, 0.4111388027667999, 0.2932586073875427, 0.2527519762516022, 0.2385282665491104, 0.23374377191066742, 0.19582593441009521, 0.2229066640138626, 0.20382057130336761, 0.2102009505033493, 0.20803993940353394, 0.20192046463489532, 0.21499741077423096, 0.15432240068912506, 0.1279952973127365, 0.18916954100131989, 0.1667092889547348, 0.12000375241041183, 0.19164985418319702, 0.09772377461194992, 0.13712996244430542], 'precision_m': [0.6531861424446106, 0.7826309204101562, 0.8167805075645447, 0.8459727168083191, 0.8696104884147644, 0.8842812180519104, 0.9185304641723633, 0.9340498447418213, 0.937609076499939, 0.9321037530899048, 0.9480924606323242, 0.943302571773529, 0.9451554417610168, 0.9436136484146118, 0.944089949131012, 0.9410818815231323, 0.9424970149993896, 0.9565162658691406, 0.9613349437713623, 0.9525627493858337, 0.9580173492431641, 0.9689820408821106, 0.9469486474990845, 0.9728016257286072, 0.9647274613380432], 'recall_m': [0.6325120329856873, 0.7250601053237915, 0.7614182829856873, 0.792067289352417, 0.8230168223381042, 0.8560696840286255, 0.891526460647583, 0.9134615659713745, 0.9206730723381042, 0.9191706776618958, 0.9375, 0.9341946840286255, 0.9371995329856873, 0.9353966116905212, 0.938401460647583, 0.9329928159713745, 0.9350961446762085, 0.9495192170143127, 0.9576321840286255, 0.9471153616905212, 0.9525240659713745, 0.9654446840286255, 0.942307710647583, 0.9675480723381042, 0.9615384340286255], 'val_accuracy': [0.6840659379959106, 0.7032967209815979, 0.7335164546966553, 0.75, 0.7829670310020447, 0.7637362480163574, 0.7774725556373596, 0.7554945349693298, 0.7719780206680298, 0.7967032790184021, 0.7582417726516724, 0.7554945349693298, 0.7802197933197021, 0.7857142686843872, 0.7664835453033447, 0.7554945349693298, 0.7802197933197021, 0.7747252583503723, 0.7637362480163574, 0.7527472376823425, 0.7774725556373596, 0.7692307829856873, 0.7747252583503723, 0.7719780206680298, 0.7802197933197021], 'val_f1_m': [0.7012826800346375, 0.6879386901855469, 0.7363749146461487, 0.7490065693855286, 0.787214994430542, 0.7729340195655823, 0.77663654088974, 0.7574248313903809, 0.7672157287597656, 0.8009780049324036, 0.7513988614082336, 0.7593314051628113, 0.7856249213218689, 0.7837660908699036, 0.7686665058135986, 0.7564556002616882, 0.7874423861503601, 0.7584434151649475, 0.770378589630127, 0.7461351752281189, 0.775607168674469, 0.7712879776954651, 0.7722799777984619, 0.7694692611694336, 0.7861689925193787], 'val_loss': [0.8514053821563721, 0.8871917724609375, 0.7076876163482666, 0.7649751305580139, 0.7546812891960144, 0.8885303735733032, 0.8631400465965271, 0.8600836992263794, 1.18950355052948, 0.88450688123703, 0.9166915416717529, 0.9585193395614624, 1.0864273309707642, 0.9551991820335388, 1.124025583267212, 1.0961917638778687, 1.0442167520523071, 1.079483985900879, 1.2093074321746826, 1.1461609601974487, 1.0434006452560425, 1.1056033372879028, 1.1689499616622925, 1.1953623294830322, 1.0964597463607788], 'val_precision_m': [0.7363355159759521, 0.7145907878875732, 0.796693742275238, 0.7989428043365479, 0.8085573315620422, 0.790961503982544, 0.7966517806053162, 0.7828620076179504, 0.7743671536445618, 0.8063192963600159, 0.7650425434112549, 0.7719947695732117, 0.7911121845245361, 0.7891297340393066, 0.7773241996765137, 0.7662034034729004, 0.7948028445243835, 0.7664182186126709, 0.7734935283660889, 0.7551171779632568, 0.7917874455451965, 0.7744455933570862, 0.7773577570915222, 0.7725415229797363, 0.7903506755828857], 'val_recall_m': [0.6701388955116272, 0.6640625, 0.6857638955116272, 0.7057291865348816, 0.7673611044883728, 0.7560763955116272, 0.7578125, 0.734375, 0.7604166865348816, 0.7960069179534912, 0.7387152314186096, 0.7473958134651184, 0.7803819179534912, 0.7786458134651184, 0.7604166865348816, 0.7473958134651184, 0.7803819179534912, 0.7508680820465088, 0.7673611044883728, 0.7378472685813904, 0.7604166865348816, 0.7682291865348816, 0.7673611044883728, 0.7664930820465088, 0.7821180820465088]}\n"
     ]
    }
   ],
   "source": [
    "# Functional API for building the model\n",
    "input_img = Input(shape=(224, 224, 3))\n",
    "resnet = ResNet152V2(weights='imagenet', include_top=False, input_tensor=input_img)\n",
    "\n",
    "# Freeze layers in DenseNet121\n",
    "for layer in resnet.layers:\n",
    "    layer.trainable = False\n",
    "\n",
    "# Add custom layers on top of DenseNet121\n",
    "x = Flatten()(resnet.output)\n",
    "x = Dropout(0.2)(x)\n",
    "x = Dense(1024, activation='relu')(x)\n",
    "x = Dropout(0.2)(x)\n",
    "x = Dense(512, activation='relu')(x)\n",
    "output = Dense(5, activation='softmax')(x)\n",
    "\n",
    "# Construct the model\n",
    "model = Model(inputs=input_img, outputs=output)\n",
    "\n",
    "# Summary of the model\n",
    "# model.summary()\n",
    "\n",
    "# Compile the model\n",
    "adam = Adam(learning_rate=0.001)\n",
    "model.compile(optimizer=adam, loss='categorical_crossentropy', metrics=['accuracy', precision_m, recall_m, f1_m])\n",
    "\n",
    "# Train the model\n",
    "graph = model.fit(train_generator, epochs=25, validation_data=validation_generator)\n",
    "\n",
    "# Save the model\n",
    "# model.save(\"/Users/hardikchhipa/Desktop/DR-Arvind/saved_models/used_models/densenet_121.h5\")\n",
    "\n",
    "# Print the results\n",
    "print(graph.history)"
   ]
  },
  {
   "cell_type": "code",
   "execution_count": 8,
   "metadata": {},
   "outputs": [
    {
     "name": "stderr",
     "output_type": "stream",
     "text": [
      "WARNING:absl:You are saving your model as an HDF5 file via `model.save()` or `keras.saving.save_model(model)`. This file format is considered legacy. We recommend using instead the native Keras format, e.g. `model.save('my_model.keras')` or `keras.saving.save_model(model, 'my_model.keras')`. \n"
     ]
    }
   ],
   "source": [
    "# Save the model\n",
    "model.save(\"/Users/hardikchhipa/Desktop/DR-Arvind/saved_models/used_models/RestNet152v2.h5\")"
   ]
  },
  {
   "cell_type": "code",
   "execution_count": 6,
   "metadata": {},
   "outputs": [
    {
     "data": {
      "image/png": "[encoded data removed]",
      "text/plain": [
       "<Figure size 640x480 with 1 Axes>"
      ]
     },
     "metadata": {},
     "output_type": "display_data"
    }
   ],
   "source": [
    "import matplotlib.pyplot as plt\n",
    "\n",
    "fig1 = plt.gcf()\n",
    "\n",
    "plt.plot(graph.history['accuracy'])\n",
    "plt.plot(graph.history['val_accuracy'])\n",
    "\n",
    "# plt.axis(ymin=0.4, ymax=1)\n",
    "plt.grid()\n",
    "\n",
    "plt.title('DenseNet201 Accuracy for DR Dataset')\n",
    "plt.ylabel('Accuracy')\n",
    "plt.xlabel('Epochs')\n",
    "plt.legend(['train','validation'])\n",
    "\n",
    "plt.show()"
   ]
  },
  {
   "cell_type": "code",
   "execution_count": 7,
   "metadata": {},
   "outputs": [
    {
     "data": {
      "image/png": "[encoded data removed]",
      "text/plain": [
       "<Figure size 640x480 with 1 Axes>"
      ]
     },
     "metadata": {},
     "output_type": "display_data"
    }
   ],
   "source": [
    "import matplotlib.pyplot as plt\n",
    "\n",
    "fig1 = plt.gcf()\n",
    "\n",
    "plt.plot(graph.history['loss'])\n",
    "plt.plot(graph.history['val_loss'])\n",
    "\n",
    "# plt.axis(ymin=0.4, ymax=1)\n",
    "plt.grid()\n",
    "\n",
    "plt.title('DenseNet201 Loss for DR Dataset')\n",
    "plt.ylabel('Loss')\n",
    "plt.xlabel('Epochs')\n",
    "plt.legend(['train','validation'])\n",
    "\n",
    "plt.show()"
   ]
  }
 ],
 "metadata": {
  "kernelspec": {
   "display_name": "base",
   "language": "python",
   "name": "python3"
  },
  "language_info": {
   "codemirror_mode": {
    "name": "ipython",
    "version": 3
   },
   "file_extension": ".py",
   "mimetype": "text/x-python",
   "name": "python",
   "nbconvert_exporter": "python",
   "pygments_lexer": "ipython3",
   "version": "3.12.4"
  }
 },
 "nbformat": 4,
 "nbformat_minor": 2
}
