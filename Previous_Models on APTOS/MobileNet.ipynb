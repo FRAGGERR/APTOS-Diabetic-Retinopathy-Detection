{
 "cells": [
  {
   "cell_type": "code",
   "execution_count": 1,
   "metadata": {},
   "outputs": [],
   "source": [
    "import tensorflow as tf\n",
    "from tensorflow.keras import backend as K\n",
    "from tensorflow.keras.models import Model\n",
    "from tensorflow.keras.layers import Flatten, Dense, Dropout, Input\n",
    "from tensorflow.keras.optimizers import Adam\n",
    "from tensorflow.keras.applications import MobileNetV2\n",
    "from tensorflow.keras.preprocessing.image import ImageDataGenerator"
   ]
  },
  {
   "cell_type": "code",
   "execution_count": 2,
   "metadata": {},
   "outputs": [],
   "source": [
    "# Metrics\n",
    "def recall_m(y_true, y_pred):\n",
    "    true_positives = K.sum(K.round(K.clip(y_true * y_pred, 0, 1)))\n",
    "    possible_positives = K.sum(K.round(K.clip(y_true, 0, 1)))\n",
    "    recall = true_positives / (possible_positives + K.epsilon())\n",
    "    return recall\n",
    "\n",
    "def precision_m(y_true, y_pred):\n",
    "    true_positives = K.sum(K.round(K.clip(y_true * y_pred, 0, 1)))\n",
    "    predicted_positives = K.sum(K.round(K.clip(y_pred, 0, 1)))\n",
    "    precision = true_positives / (predicted_positives + K.epsilon())\n",
    "    return precision\n",
    "\n",
    "def f1_m(y_true, y_pred):\n",
    "    precision = precision_m(y_true, y_pred)\n",
    "    recall = recall_m(y_true, y_pred)\n",
    "    return 2*((precision*recall)/(precision+recall+K.epsilon()))"
   ]
  },
  {
   "cell_type": "code",
   "execution_count": 3,
   "metadata": {},
   "outputs": [
    {
     "name": "stdout",
     "output_type": "stream",
     "text": [
      "Found 3298 images belonging to 5 classes.\n",
      "Found 364 images belonging to 5 classes.\n"
     ]
    }
   ],
   "source": [
    "# Data generators with rescaling\n",
    "train_datagen_with_aug = ImageDataGenerator(rescale=1./255, validation_split=0.1)\n",
    "\n",
    "train_generator = train_datagen_with_aug.flow_from_directory(\n",
    "    r'/Users/hardikchhipa/Desktop/DR-Arvind/Aravind eye dataset/aptos2019-blindness-detection/train_split',\n",
    "    target_size=(224, 224),  # Resize images to a fixed size\n",
    "    batch_size=32,\n",
    "    class_mode='categorical',\n",
    "    subset='training'\n",
    ")\n",
    "\n",
    "validation_generator = train_datagen_with_aug.flow_from_directory(\n",
    "    r'/Users/hardikchhipa/Desktop/DR-Arvind/Aravind eye dataset/aptos2019-blindness-detection/train_split',\n",
    "    target_size=(224, 224),  # Resize images to a fixed size\n",
    "    batch_size=32,\n",
    "    class_mode='categorical',\n",
    "    subset='validation'\n",
    ")"
   ]
  },
  {
   "cell_type": "code",
   "execution_count": 4,
   "metadata": {},
   "outputs": [
    {
     "name": "stderr",
     "output_type": "stream",
     "text": [
      "/var/folders/p2/6mgfcw956d17xkqh172sdjk40000gn/T/ipykernel_68989/4146345780.py:3: UserWarning: `input_shape` is undefined or non-square, or `rows` is not in [96, 128, 160, 192, 224]. Weights for input shape (224, 224) will be loaded as the default.\n",
      "  MobileNetV2_model = MobileNetV2(weights='imagenet', include_top=False, input_tensor=input_img)\n"
     ]
    },
    {
     "name": "stdout",
     "output_type": "stream",
     "text": [
      "Downloading data from https://storage.googleapis.com/tensorflow/keras-applications/mobilenet_v2/mobilenet_v2_weights_tf_dim_ordering_tf_kernels_1.0_224_no_top.h5\n",
      "\u001b[1m9406464/9406464\u001b[0m \u001b[32m━━━━━━━━━━━━━━━━━━━━\u001b[0m\u001b[37m\u001b[0m \u001b[1m1s\u001b[0m 0us/step\n",
      "Epoch 1/25\n"
     ]
    },
    {
     "name": "stderr",
     "output_type": "stream",
     "text": [
      "/opt/anaconda3/lib/python3.12/site-packages/keras/src/trainers/data_adapters/py_dataset_adapter.py:121: UserWarning: Your `PyDataset` class should call `super().__init__(**kwargs)` in its constructor. `**kwargs` can include `workers`, `use_multiprocessing`, `max_queue_size`. Do not pass these arguments to `fit()`, as they will be ignored.\n",
      "  self._warn_if_super_not_called()\n",
      "2024-09-06 00:34:39.990220: I tensorflow/core/kernels/data/shuffle_dataset_op.cc:450] ShuffleDatasetV3:2: Filling up shuffle buffer (this may take a while): 4 of 8\n",
      "2024-09-06 00:34:51.034259: I tensorflow/core/kernels/data/shuffle_dataset_op.cc:480] Shuffle buffer filled.\n"
     ]
    },
    {
     "name": "stdout",
     "output_type": "stream",
     "text": [
      "\u001b[1m104/104\u001b[0m \u001b[32m━━━━━━━━━━━━━━━━━━━━\u001b[0m\u001b[37m\u001b[0m \u001b[1m334s\u001b[0m 3s/step - accuracy: 0.6061 - f1_m: 0.6069 - loss: 10.3637 - precision_m: 0.6124 - recall_m: 0.6026 - val_accuracy: 0.7363 - val_f1_m: 0.7308 - val_loss: 0.8513 - val_precision_m: 0.7617 - val_recall_m: 0.7031\n",
      "Epoch 2/25\n"
     ]
    },
    {
     "name": "stderr",
     "output_type": "stream",
     "text": [
      "2024-09-06 00:40:11.305683: I tensorflow/core/kernels/data/shuffle_dataset_op.cc:450] ShuffleDatasetV3:2: Filling up shuffle buffer (this may take a while): 4 of 8\n",
      "2024-09-06 00:40:22.772476: I tensorflow/core/kernels/data/shuffle_dataset_op.cc:480] Shuffle buffer filled.\n"
     ]
    },
    {
     "name": "stdout",
     "output_type": "stream",
     "text": [
      "\u001b[1m104/104\u001b[0m \u001b[32m━━━━━━━━━━━━━━━━━━━━\u001b[0m\u001b[37m\u001b[0m \u001b[1m319s\u001b[0m 3s/step - accuracy: 0.7455 - f1_m: 0.7404 - loss: 0.7988 - precision_m: 0.7619 - recall_m: 0.7207 - val_accuracy: 0.7637 - val_f1_m: 0.7479 - val_loss: 0.7683 - val_precision_m: 0.7819 - val_recall_m: 0.7179\n",
      "Epoch 3/25\n"
     ]
    },
    {
     "name": "stderr",
     "output_type": "stream",
     "text": [
      "2024-09-06 00:45:30.230555: I tensorflow/core/kernels/data/shuffle_dataset_op.cc:450] ShuffleDatasetV3:2: Filling up shuffle buffer (this may take a while): 4 of 8\n",
      "2024-09-06 00:45:40.131236: I tensorflow/core/kernels/data/shuffle_dataset_op.cc:480] Shuffle buffer filled.\n"
     ]
    },
    {
     "name": "stdout",
     "output_type": "stream",
     "text": [
      "\u001b[1m104/104\u001b[0m \u001b[32m━━━━━━━━━━━━━━━━━━━━\u001b[0m\u001b[37m\u001b[0m \u001b[1m322s\u001b[0m 3s/step - accuracy: 0.7863 - f1_m: 0.7853 - loss: 0.6410 - precision_m: 0.8222 - recall_m: 0.7537 - val_accuracy: 0.7308 - val_f1_m: 0.7357 - val_loss: 0.8518 - val_precision_m: 0.7898 - val_recall_m: 0.6892\n",
      "Epoch 4/25\n"
     ]
    },
    {
     "name": "stderr",
     "output_type": "stream",
     "text": [
      "2024-09-06 00:50:53.677719: I tensorflow/core/kernels/data/shuffle_dataset_op.cc:450] ShuffleDatasetV3:2: Filling up shuffle buffer (this may take a while): 5 of 8\n",
      "2024-09-06 00:51:00.874348: I tensorflow/core/kernels/data/shuffle_dataset_op.cc:480] Shuffle buffer filled.\n"
     ]
    },
    {
     "name": "stdout",
     "output_type": "stream",
     "text": [
      "\u001b[1m104/104\u001b[0m \u001b[32m━━━━━━━━━━━━━━━━━━━━\u001b[0m\u001b[37m\u001b[0m \u001b[1m320s\u001b[0m 3s/step - accuracy: 0.8130 - f1_m: 0.8097 - loss: 0.5038 - precision_m: 0.8369 - recall_m: 0.7851 - val_accuracy: 0.7610 - val_f1_m: 0.7650 - val_loss: 0.7446 - val_precision_m: 0.7822 - val_recall_m: 0.7491\n",
      "Epoch 5/25\n"
     ]
    },
    {
     "name": "stderr",
     "output_type": "stream",
     "text": [
      "2024-09-06 00:56:11.978145: I tensorflow/core/kernels/data/shuffle_dataset_op.cc:450] ShuffleDatasetV3:2: Filling up shuffle buffer (this may take a while): 4 of 8\n",
      "2024-09-06 00:56:22.012893: I tensorflow/core/kernels/data/shuffle_dataset_op.cc:480] Shuffle buffer filled.\n"
     ]
    },
    {
     "name": "stdout",
     "output_type": "stream",
     "text": [
      "\u001b[1m104/104\u001b[0m \u001b[32m━━━━━━━━━━━━━━━━━━━━\u001b[0m\u001b[37m\u001b[0m \u001b[1m321s\u001b[0m 3s/step - accuracy: 0.8472 - f1_m: 0.8493 - loss: 0.4601 - precision_m: 0.8720 - recall_m: 0.8290 - val_accuracy: 0.7500 - val_f1_m: 0.7504 - val_loss: 0.8654 - val_precision_m: 0.7626 - val_recall_m: 0.7396\n",
      "Epoch 6/25\n"
     ]
    },
    {
     "name": "stderr",
     "output_type": "stream",
     "text": [
      "2024-09-06 01:01:32.610113: I tensorflow/core/kernels/data/shuffle_dataset_op.cc:450] ShuffleDatasetV3:2: Filling up shuffle buffer (this may take a while): 4 of 8\n",
      "2024-09-06 01:01:42.450081: I tensorflow/core/kernels/data/shuffle_dataset_op.cc:480] Shuffle buffer filled.\n"
     ]
    },
    {
     "name": "stdout",
     "output_type": "stream",
     "text": [
      "\u001b[1m104/104\u001b[0m \u001b[32m━━━━━━━━━━━━━━━━━━━━\u001b[0m\u001b[37m\u001b[0m \u001b[1m319s\u001b[0m 3s/step - accuracy: 0.8409 - f1_m: 0.8404 - loss: 0.5273 - precision_m: 0.8591 - recall_m: 0.8249 - val_accuracy: 0.7692 - val_f1_m: 0.7526 - val_loss: 0.7484 - val_precision_m: 0.7894 - val_recall_m: 0.7222\n",
      "Epoch 7/25\n"
     ]
    },
    {
     "name": "stderr",
     "output_type": "stream",
     "text": [
      "2024-09-06 01:06:53.205085: I tensorflow/core/kernels/data/shuffle_dataset_op.cc:450] ShuffleDatasetV3:2: Filling up shuffle buffer (this may take a while): 4 of 8\n",
      "2024-09-06 01:07:03.201639: I tensorflow/core/kernels/data/shuffle_dataset_op.cc:480] Shuffle buffer filled.\n"
     ]
    },
    {
     "name": "stdout",
     "output_type": "stream",
     "text": [
      "\u001b[1m104/104\u001b[0m \u001b[32m━━━━━━━━━━━━━━━━━━━━\u001b[0m\u001b[37m\u001b[0m \u001b[1m320s\u001b[0m 3s/step - accuracy: 0.8664 - f1_m: 0.8658 - loss: 0.3673 - precision_m: 0.8905 - recall_m: 0.8433 - val_accuracy: 0.7665 - val_f1_m: 0.7776 - val_loss: 0.7627 - val_precision_m: 0.8027 - val_recall_m: 0.7543\n",
      "Epoch 8/25\n"
     ]
    },
    {
     "name": "stderr",
     "output_type": "stream",
     "text": [
      "2024-09-06 01:12:14.213250: I tensorflow/core/kernels/data/shuffle_dataset_op.cc:450] ShuffleDatasetV3:2: Filling up shuffle buffer (this may take a while): 5 of 8\n",
      "2024-09-06 01:12:21.830208: I tensorflow/core/kernels/data/shuffle_dataset_op.cc:480] Shuffle buffer filled.\n"
     ]
    },
    {
     "name": "stdout",
     "output_type": "stream",
     "text": [
      "\u001b[1m104/104\u001b[0m \u001b[32m━━━━━━━━━━━━━━━━━━━━\u001b[0m\u001b[37m\u001b[0m \u001b[1m314s\u001b[0m 3s/step - accuracy: 0.8905 - f1_m: 0.8940 - loss: 0.2899 - precision_m: 0.9082 - recall_m: 0.8808 - val_accuracy: 0.7857 - val_f1_m: 0.7513 - val_loss: 0.8515 - val_precision_m: 0.7828 - val_recall_m: 0.7240\n",
      "Epoch 9/25\n"
     ]
    },
    {
     "name": "stderr",
     "output_type": "stream",
     "text": [
      "2024-09-06 01:17:29.030916: I tensorflow/core/kernels/data/shuffle_dataset_op.cc:450] ShuffleDatasetV3:2: Filling up shuffle buffer (this may take a while): 5 of 8\n",
      "2024-09-06 01:17:36.212885: I tensorflow/core/kernels/data/shuffle_dataset_op.cc:480] Shuffle buffer filled.\n"
     ]
    },
    {
     "name": "stdout",
     "output_type": "stream",
     "text": [
      "\u001b[1m104/104\u001b[0m \u001b[32m━━━━━━━━━━━━━━━━━━━━\u001b[0m\u001b[37m\u001b[0m \u001b[1m316s\u001b[0m 3s/step - accuracy: 0.9294 - f1_m: 0.9285 - loss: 0.2136 - precision_m: 0.9389 - recall_m: 0.9187 - val_accuracy: 0.7802 - val_f1_m: 0.7834 - val_loss: 0.7447 - val_precision_m: 0.8006 - val_recall_m: 0.7674\n",
      "Epoch 10/25\n"
     ]
    },
    {
     "name": "stderr",
     "output_type": "stream",
     "text": [
      "2024-09-06 01:22:42.454906: I tensorflow/core/kernels/data/shuffle_dataset_op.cc:450] ShuffleDatasetV3:2: Filling up shuffle buffer (this may take a while): 5 of 8\n",
      "2024-09-06 01:22:50.947535: I tensorflow/core/kernels/data/shuffle_dataset_op.cc:480] Shuffle buffer filled.\n"
     ]
    },
    {
     "name": "stdout",
     "output_type": "stream",
     "text": [
      "\u001b[1m104/104\u001b[0m \u001b[32m━━━━━━━━━━━━━━━━━━━━\u001b[0m\u001b[37m\u001b[0m \u001b[1m322s\u001b[0m 3s/step - accuracy: 0.9093 - f1_m: 0.9127 - loss: 0.2726 - precision_m: 0.9208 - recall_m: 0.9051 - val_accuracy: 0.7775 - val_f1_m: 0.7846 - val_loss: 0.9189 - val_precision_m: 0.7920 - val_recall_m: 0.7778\n",
      "Epoch 11/25\n"
     ]
    },
    {
     "name": "stderr",
     "output_type": "stream",
     "text": [
      "2024-09-06 01:28:03.572466: I tensorflow/core/kernels/data/shuffle_dataset_op.cc:450] ShuffleDatasetV3:2: Filling up shuffle buffer (this may take a while): 4 of 8\n",
      "2024-09-06 01:28:12.965509: I tensorflow/core/kernels/data/shuffle_dataset_op.cc:480] Shuffle buffer filled.\n"
     ]
    },
    {
     "name": "stdout",
     "output_type": "stream",
     "text": [
      "\u001b[1m104/104\u001b[0m \u001b[32m━━━━━━━━━━━━━━━━━━━━\u001b[0m\u001b[37m\u001b[0m \u001b[1m318s\u001b[0m 3s/step - accuracy: 0.9381 - f1_m: 0.9364 - loss: 0.1740 - precision_m: 0.9451 - recall_m: 0.9281 - val_accuracy: 0.7885 - val_f1_m: 0.7842 - val_loss: 0.8596 - val_precision_m: 0.7938 - val_recall_m: 0.7752\n",
      "Epoch 12/25\n"
     ]
    },
    {
     "name": "stderr",
     "output_type": "stream",
     "text": [
      "2024-09-06 01:33:22.693407: I tensorflow/core/kernels/data/shuffle_dataset_op.cc:450] ShuffleDatasetV3:2: Filling up shuffle buffer (this may take a while): 4 of 8\n",
      "2024-09-06 01:33:31.693701: I tensorflow/core/kernels/data/shuffle_dataset_op.cc:480] Shuffle buffer filled.\n"
     ]
    },
    {
     "name": "stdout",
     "output_type": "stream",
     "text": [
      "\u001b[1m104/104\u001b[0m \u001b[32m━━━━━━━━━━━━━━━━━━━━\u001b[0m\u001b[37m\u001b[0m \u001b[1m323s\u001b[0m 3s/step - accuracy: 0.9220 - f1_m: 0.9170 - loss: 0.2201 - precision_m: 0.9344 - recall_m: 0.9032 - val_accuracy: 0.7665 - val_f1_m: 0.7666 - val_loss: 0.9285 - val_precision_m: 0.7937 - val_recall_m: 0.7422\n",
      "Epoch 13/25\n"
     ]
    },
    {
     "name": "stderr",
     "output_type": "stream",
     "text": [
      "2024-09-06 01:38:46.000344: I tensorflow/core/kernels/data/shuffle_dataset_op.cc:450] ShuffleDatasetV3:2: Filling up shuffle buffer (this may take a while): 4 of 8\n",
      "2024-09-06 01:38:57.199067: I tensorflow/core/kernels/data/shuffle_dataset_op.cc:480] Shuffle buffer filled.\n"
     ]
    },
    {
     "name": "stdout",
     "output_type": "stream",
     "text": [
      "\u001b[1m104/104\u001b[0m \u001b[32m━━━━━━━━━━━━━━━━━━━━\u001b[0m\u001b[37m\u001b[0m \u001b[1m326s\u001b[0m 3s/step - accuracy: 0.8928 - f1_m: 0.8907 - loss: 0.3261 - precision_m: 0.9044 - recall_m: 0.8779 - val_accuracy: 0.7582 - val_f1_m: 0.7621 - val_loss: 1.0686 - val_precision_m: 0.7869 - val_recall_m: 0.7396\n",
      "Epoch 14/25\n"
     ]
    },
    {
     "name": "stderr",
     "output_type": "stream",
     "text": [
      "2024-09-06 01:44:13.124497: I tensorflow/core/kernels/data/shuffle_dataset_op.cc:450] ShuffleDatasetV3:2: Filling up shuffle buffer (this may take a while): 4 of 8\n",
      "2024-09-06 01:44:24.444638: I tensorflow/core/kernels/data/shuffle_dataset_op.cc:480] Shuffle buffer filled.\n"
     ]
    },
    {
     "name": "stdout",
     "output_type": "stream",
     "text": [
      "\u001b[1m104/104\u001b[0m \u001b[32m━━━━━━━━━━━━━━━━━━━━\u001b[0m\u001b[37m\u001b[0m \u001b[1m327s\u001b[0m 3s/step - accuracy: 0.9199 - f1_m: 0.9199 - loss: 0.2537 - precision_m: 0.9312 - recall_m: 0.9091 - val_accuracy: 0.7885 - val_f1_m: 0.7980 - val_loss: 0.9241 - val_precision_m: 0.8073 - val_recall_m: 0.7891\n",
      "Epoch 15/25\n"
     ]
    },
    {
     "name": "stderr",
     "output_type": "stream",
     "text": [
      "2024-09-06 01:49:38.982430: I tensorflow/core/kernels/data/shuffle_dataset_op.cc:450] ShuffleDatasetV3:2: Filling up shuffle buffer (this may take a while): 4 of 8\n",
      "2024-09-06 01:49:47.729139: I tensorflow/core/kernels/data/shuffle_dataset_op.cc:480] Shuffle buffer filled.\n"
     ]
    },
    {
     "name": "stdout",
     "output_type": "stream",
     "text": [
      "\u001b[1m104/104\u001b[0m \u001b[32m━━━━━━━━━━━━━━━━━━━━\u001b[0m\u001b[37m\u001b[0m \u001b[1m329s\u001b[0m 3s/step - accuracy: 0.9086 - f1_m: 0.9097 - loss: 0.2884 - precision_m: 0.9222 - recall_m: 0.8978 - val_accuracy: 0.7527 - val_f1_m: 0.7511 - val_loss: 1.2110 - val_precision_m: 0.7606 - val_recall_m: 0.7422\n",
      "Epoch 16/25\n"
     ]
    },
    {
     "name": "stderr",
     "output_type": "stream",
     "text": [
      "2024-09-06 01:55:08.171010: I tensorflow/core/kernels/data/shuffle_dataset_op.cc:450] ShuffleDatasetV3:2: Filling up shuffle buffer (this may take a while): 4 of 8\n",
      "2024-09-06 01:55:18.720044: I tensorflow/core/kernels/data/shuffle_dataset_op.cc:480] Shuffle buffer filled.\n"
     ]
    },
    {
     "name": "stdout",
     "output_type": "stream",
     "text": [
      "\u001b[1m104/104\u001b[0m \u001b[32m━━━━━━━━━━━━━━━━━━━━\u001b[0m\u001b[37m\u001b[0m \u001b[1m327s\u001b[0m 3s/step - accuracy: 0.9027 - f1_m: 0.9030 - loss: 0.3337 - precision_m: 0.9149 - recall_m: 0.8918 - val_accuracy: 0.7940 - val_f1_m: 0.7959 - val_loss: 0.9004 - val_precision_m: 0.8132 - val_recall_m: 0.7795\n",
      "Epoch 17/25\n"
     ]
    },
    {
     "name": "stderr",
     "output_type": "stream",
     "text": [
      "2024-09-06 02:00:34.069150: I tensorflow/core/kernels/data/shuffle_dataset_op.cc:450] ShuffleDatasetV3:2: Filling up shuffle buffer (this may take a while): 4 of 8\n",
      "2024-09-06 02:00:41.613820: I tensorflow/core/kernels/data/shuffle_dataset_op.cc:480] Shuffle buffer filled.\n"
     ]
    },
    {
     "name": "stdout",
     "output_type": "stream",
     "text": [
      "\u001b[1m104/104\u001b[0m \u001b[32m━━━━━━━━━━━━━━━━━━━━\u001b[0m\u001b[37m\u001b[0m \u001b[1m327s\u001b[0m 3s/step - accuracy: 0.9379 - f1_m: 0.9409 - loss: 0.2067 - precision_m: 0.9473 - recall_m: 0.9349 - val_accuracy: 0.7912 - val_f1_m: 0.7960 - val_loss: 0.7977 - val_precision_m: 0.8051 - val_recall_m: 0.7873\n",
      "Epoch 18/25\n"
     ]
    },
    {
     "name": "stderr",
     "output_type": "stream",
     "text": [
      "2024-09-06 02:06:01.519987: I tensorflow/core/kernels/data/shuffle_dataset_op.cc:450] ShuffleDatasetV3:2: Filling up shuffle buffer (this may take a while): 4 of 8\n",
      "2024-09-06 02:06:11.538693: I tensorflow/core/kernels/data/shuffle_dataset_op.cc:480] Shuffle buffer filled.\n"
     ]
    },
    {
     "name": "stdout",
     "output_type": "stream",
     "text": [
      "\u001b[1m104/104\u001b[0m \u001b[32m━━━━━━━━━━━━━━━━━━━━\u001b[0m\u001b[37m\u001b[0m \u001b[1m327s\u001b[0m 3s/step - accuracy: 0.9430 - f1_m: 0.9424 - loss: 0.1758 - precision_m: 0.9506 - recall_m: 0.9346 - val_accuracy: 0.7802 - val_f1_m: 0.7811 - val_loss: 0.8374 - val_precision_m: 0.8035 - val_recall_m: 0.7604\n",
      "Epoch 19/25\n"
     ]
    },
    {
     "name": "stderr",
     "output_type": "stream",
     "text": [
      "2024-09-06 02:11:27.654980: I tensorflow/core/kernels/data/shuffle_dataset_op.cc:450] ShuffleDatasetV3:2: Filling up shuffle buffer (this may take a while): 4 of 8\n",
      "2024-09-06 02:11:37.793718: I tensorflow/core/kernels/data/shuffle_dataset_op.cc:480] Shuffle buffer filled.\n"
     ]
    },
    {
     "name": "stdout",
     "output_type": "stream",
     "text": [
      "\u001b[1m104/104\u001b[0m \u001b[32m━━━━━━━━━━━━━━━━━━━━\u001b[0m\u001b[37m\u001b[0m \u001b[1m327s\u001b[0m 3s/step - accuracy: 0.9518 - f1_m: 0.9510 - loss: 0.1360 - precision_m: 0.9603 - recall_m: 0.9422 - val_accuracy: 0.7720 - val_f1_m: 0.7835 - val_loss: 0.9640 - val_precision_m: 0.7992 - val_recall_m: 0.7691\n",
      "Epoch 20/25\n"
     ]
    },
    {
     "name": "stderr",
     "output_type": "stream",
     "text": [
      "2024-09-06 02:16:54.847783: I tensorflow/core/kernels/data/shuffle_dataset_op.cc:450] ShuffleDatasetV3:2: Filling up shuffle buffer (this may take a while): 4 of 8\n",
      "2024-09-06 02:17:05.239618: I tensorflow/core/kernels/data/shuffle_dataset_op.cc:480] Shuffle buffer filled.\n"
     ]
    },
    {
     "name": "stdout",
     "output_type": "stream",
     "text": [
      "\u001b[1m104/104\u001b[0m \u001b[32m━━━━━━━━━━━━━━━━━━━━\u001b[0m\u001b[37m\u001b[0m \u001b[1m328s\u001b[0m 3s/step - accuracy: 0.9566 - f1_m: 0.9580 - loss: 0.1397 - precision_m: 0.9631 - recall_m: 0.9532 - val_accuracy: 0.7610 - val_f1_m: 0.7689 - val_loss: 1.2678 - val_precision_m: 0.7760 - val_recall_m: 0.7622\n",
      "Epoch 21/25\n"
     ]
    },
    {
     "name": "stderr",
     "output_type": "stream",
     "text": [
      "2024-09-06 02:22:22.549130: I tensorflow/core/kernels/data/shuffle_dataset_op.cc:450] ShuffleDatasetV3:2: Filling up shuffle buffer (this may take a while): 4 of 8\n",
      "2024-09-06 02:22:29.130221: I tensorflow/core/kernels/data/shuffle_dataset_op.cc:480] Shuffle buffer filled.\n"
     ]
    },
    {
     "name": "stdout",
     "output_type": "stream",
     "text": [
      "\u001b[1m104/104\u001b[0m \u001b[32m━━━━━━━━━━━━━━━━━━━━\u001b[0m\u001b[37m\u001b[0m \u001b[1m327s\u001b[0m 3s/step - accuracy: 0.9542 - f1_m: 0.9557 - loss: 0.1455 - precision_m: 0.9591 - recall_m: 0.9524 - val_accuracy: 0.7665 - val_f1_m: 0.7730 - val_loss: 1.1123 - val_precision_m: 0.7854 - val_recall_m: 0.7613\n",
      "Epoch 22/25\n"
     ]
    },
    {
     "name": "stderr",
     "output_type": "stream",
     "text": [
      "2024-09-06 02:27:49.149051: I tensorflow/core/kernels/data/shuffle_dataset_op.cc:450] ShuffleDatasetV3:2: Filling up shuffle buffer (this may take a while): 4 of 8\n",
      "2024-09-06 02:27:58.852739: I tensorflow/core/kernels/data/shuffle_dataset_op.cc:480] Shuffle buffer filled.\n"
     ]
    },
    {
     "name": "stdout",
     "output_type": "stream",
     "text": [
      "\u001b[1m104/104\u001b[0m \u001b[32m━━━━━━━━━━━━━━━━━━━━\u001b[0m\u001b[37m\u001b[0m \u001b[1m327s\u001b[0m 3s/step - accuracy: 0.9497 - f1_m: 0.9488 - loss: 0.1458 - precision_m: 0.9545 - recall_m: 0.9435 - val_accuracy: 0.7857 - val_f1_m: 0.7844 - val_loss: 1.2685 - val_precision_m: 0.7877 - val_recall_m: 0.7812\n",
      "Epoch 23/25\n"
     ]
    },
    {
     "name": "stderr",
     "output_type": "stream",
     "text": [
      "2024-09-06 02:33:15.746605: I tensorflow/core/kernels/data/shuffle_dataset_op.cc:450] ShuffleDatasetV3:2: Filling up shuffle buffer (this may take a while): 4 of 8\n",
      "2024-09-06 02:33:25.521967: I tensorflow/core/kernels/data/shuffle_dataset_op.cc:480] Shuffle buffer filled.\n"
     ]
    },
    {
     "name": "stdout",
     "output_type": "stream",
     "text": [
      "\u001b[1m104/104\u001b[0m \u001b[32m━━━━━━━━━━━━━━━━━━━━\u001b[0m\u001b[37m\u001b[0m \u001b[1m329s\u001b[0m 3s/step - accuracy: 0.9482 - f1_m: 0.9498 - loss: 0.1502 - precision_m: 0.9543 - recall_m: 0.9455 - val_accuracy: 0.7802 - val_f1_m: 0.7867 - val_loss: 1.1616 - val_precision_m: 0.7961 - val_recall_m: 0.7778\n",
      "Epoch 24/25\n"
     ]
    },
    {
     "name": "stderr",
     "output_type": "stream",
     "text": [
      "2024-09-06 02:38:45.688308: I tensorflow/core/kernels/data/shuffle_dataset_op.cc:450] ShuffleDatasetV3:2: Filling up shuffle buffer (this may take a while): 4 of 8\n",
      "2024-09-06 02:38:55.564560: I tensorflow/core/kernels/data/shuffle_dataset_op.cc:480] Shuffle buffer filled.\n"
     ]
    },
    {
     "name": "stdout",
     "output_type": "stream",
     "text": [
      "\u001b[1m104/104\u001b[0m \u001b[32m━━━━━━━━━━━━━━━━━━━━\u001b[0m\u001b[37m\u001b[0m \u001b[1m327s\u001b[0m 3s/step - accuracy: 0.9620 - f1_m: 0.9613 - loss: 0.1067 - precision_m: 0.9656 - recall_m: 0.9572 - val_accuracy: 0.7720 - val_f1_m: 0.7786 - val_loss: 1.2011 - val_precision_m: 0.7859 - val_recall_m: 0.7717\n",
      "Epoch 25/25\n"
     ]
    },
    {
     "name": "stderr",
     "output_type": "stream",
     "text": [
      "2024-09-06 02:44:12.144871: I tensorflow/core/kernels/data/shuffle_dataset_op.cc:450] ShuffleDatasetV3:2: Filling up shuffle buffer (this may take a while): 4 of 8\n",
      "2024-09-06 02:44:22.767621: I tensorflow/core/kernels/data/shuffle_dataset_op.cc:480] Shuffle buffer filled.\n"
     ]
    },
    {
     "name": "stdout",
     "output_type": "stream",
     "text": [
      "\u001b[1m104/104\u001b[0m \u001b[32m━━━━━━━━━━━━━━━━━━━━\u001b[0m\u001b[37m\u001b[0m \u001b[1m328s\u001b[0m 3s/step - accuracy: 0.9606 - f1_m: 0.9625 - loss: 0.1350 - precision_m: 0.9657 - recall_m: 0.9595 - val_accuracy: 0.7995 - val_f1_m: 0.7975 - val_loss: 1.2515 - val_precision_m: 0.8017 - val_recall_m: 0.7934\n"
     ]
    },
    {
     "name": "stderr",
     "output_type": "stream",
     "text": [
      "WARNING:absl:You are saving your model as an HDF5 file via `model.save()` or `keras.saving.save_model(model)`. This file format is considered legacy. We recommend using instead the native Keras format, e.g. `model.save('my_model.keras')` or `keras.saving.save_model(model, 'my_model.keras')`. \n"
     ]
    },
    {
     "name": "stdout",
     "output_type": "stream",
     "text": [
      "{'accuracy': [0.6622195243835449, 0.7483323216438293, 0.7868404984474182, 0.8101879954338074, 0.8486961722373962, 0.8399029970169067, 0.8684051036834717, 0.8896300792694092, 0.9184353947639465, 0.9214675426483154, 0.9232868552207947, 0.9057004451751709, 0.8944814801216125, 0.9169193506240845, 0.9078229069709778, 0.9120678901672363, 0.9293511509895325, 0.9390539526939392, 0.9517889618873596, 0.957550048828125, 0.9487568140029907, 0.9493632316589355, 0.9526985883712769, 0.9627046585083008, 0.9614918231964111], 'f1_m': [0.6651045680046082, 0.7468475103378296, 0.7843939065933228, 0.8035698533058167, 0.8525065779685974, 0.8400523662567139, 0.870120108127594, 0.8913818001747131, 0.9200738668441772, 0.9232891798019409, 0.9234982132911682, 0.9031184911727905, 0.892638087272644, 0.9180634617805481, 0.9075109958648682, 0.9109297394752502, 0.9300784468650818, 0.9398521780967712, 0.9506837129592896, 0.9577291011810303, 0.9491029977798462, 0.9492059946060181, 0.9542070031166077, 0.9624021053314209, 0.9634293913841248], 'loss': [4.973872661590576, 0.7891530990600586, 0.6382028460502625, 0.5171653032302856, 0.451471209526062, 0.5190925002098083, 0.35695114731788635, 0.3032204508781433, 0.23990000784397125, 0.23586949706077576, 0.21919576823711395, 0.27046674489974976, 0.33910584449768066, 0.24966812133789062, 0.29861003160476685, 0.3008943200111389, 0.22155611217021942, 0.1845439374446869, 0.1405428797006607, 0.1356169432401657, 0.15990853309631348, 0.1555340737104416, 0.13905030488967896, 0.11184757947921753, 0.12855838239192963], 'precision_m': [0.6775606870651245, 0.7707641124725342, 0.8195394277572632, 0.8317630290985107, 0.8775237798690796, 0.8617201447486877, 0.8929612040519714, 0.9083795547485352, 0.9328610301017761, 0.9317823648452759, 0.9314974546432495, 0.9179564118385315, 0.9060194492340088, 0.9289697408676147, 0.9199997186660767, 0.9210237264633179, 0.9399464130401611, 0.9486688375473022, 0.9598252773284912, 0.9628599882125854, 0.9548969268798828, 0.9536055326461792, 0.9587463140487671, 0.9677651524543762, 0.9666691422462463], 'recall_m': [0.6550480723381042, 0.7250601053237915, 0.7542067170143127, 0.778245210647583, 0.8299278616905212, 0.821213960647583, 0.8491586446762085, 0.8756009340286255, 0.9080528616905212, 0.9152644276618958, 0.9158653616905212, 0.890625, 0.8801081776618958, 0.9077523946762085, 0.8957331776618958, 0.901442289352417, 0.9206730723381042, 0.9314903616905212, 0.9420071840286255, 0.9528245329856873, 0.9435096383094788, 0.9450120329856873, 0.9498196840286255, 0.9573317170143127, 0.9603365659713745], 'val_accuracy': [0.7362637519836426, 0.7637362480163574, 0.7307692170143127, 0.7609890103340149, 0.75, 0.7692307829856873, 0.7664835453033447, 0.7857142686843872, 0.7802197933197021, 0.7774725556373596, 0.7884615659713745, 0.7664835453033447, 0.7582417726516724, 0.7884615659713745, 0.7527472376823425, 0.7939560413360596, 0.791208803653717, 0.7802197933197021, 0.7719780206680298, 0.7609890103340149, 0.7664835453033447, 0.7857142686843872, 0.7802197933197021, 0.7719780206680298, 0.7994505763053894], 'val_f1_m': [0.7307574152946472, 0.7479372024536133, 0.7357401251792908, 0.7649938464164734, 0.7504134178161621, 0.7526111006736755, 0.7775933742523193, 0.7513486742973328, 0.7833697199821472, 0.7845694422721863, 0.7842394709587097, 0.7665578722953796, 0.7621051669120789, 0.7979697585105896, 0.7510947585105896, 0.7958710789680481, 0.7959604263305664, 0.7810766696929932, 0.7835268974304199, 0.7689237594604492, 0.7729615569114685, 0.7844328284263611, 0.7866547107696533, 0.7786271572113037, 0.7974949479103088], 'val_loss': [0.8513330221176147, 0.7683448195457458, 0.8518109321594238, 0.744620680809021, 0.8653696775436401, 0.7483897805213928, 0.7627298831939697, 0.851539134979248, 0.7447052597999573, 0.9188703894615173, 0.8596412539482117, 0.928479015827179, 1.0685763359069824, 0.924071192741394, 1.2110093832015991, 0.9004277586936951, 0.7977496385574341, 0.8374162316322327, 0.9639909267425537, 1.267810344696045, 1.1122732162475586, 1.2684835195541382, 1.1615766286849976, 1.2010557651519775, 1.2515102624893188], 'val_precision_m': [0.7617457509040833, 0.7819085717201233, 0.7897791266441345, 0.7821723818778992, 0.7625951766967773, 0.7894363403320312, 0.8027499318122864, 0.782785952091217, 0.8006454110145569, 0.7919671535491943, 0.7938060164451599, 0.7936921119689941, 0.7869409918785095, 0.8072972297668457, 0.7606086134910583, 0.81318598985672, 0.8051370978355408, 0.8035054802894592, 0.7991692423820496, 0.7759855389595032, 0.7854238152503967, 0.7877183556556702, 0.7960588932037354, 0.7859151363372803, 0.8017193675041199], 'val_recall_m': [0.703125, 0.7178819179534912, 0.6892361044883728, 0.7491319179534912, 0.7395833134651184, 0.7222222685813904, 0.7543402314186096, 0.7239583134651184, 0.7673611044883728, 0.7777777314186096, 0.7751736044883728, 0.7421875, 0.7395833134651184, 0.7890625, 0.7421875, 0.7795138955116272, 0.7873263955116272, 0.7604166865348816, 0.7690972685813904, 0.7621527314186096, 0.7612847685813904, 0.78125, 0.7777777314186096, 0.7717013955116272, 0.7934027314186096]}\n"
     ]
    }
   ],
   "source": [
    "# Functional API for building the model\n",
    "input_img = Input(shape=(224, 224, 3))\n",
    "MobileNetV2_model = MobileNetV2(weights='imagenet', include_top=False, input_tensor=input_img)\n",
    "\n",
    "# Freeze layers in DenseNet121\n",
    "for layer in MobileNetV2_model.layers:\n",
    "    layer.trainable = False\n",
    "\n",
    "# Add custom layers on top of DenseNet121\n",
    "x = Flatten()(MobileNetV2_model.output)\n",
    "x = Dropout(0.2)(x)\n",
    "x = Dense(1024, activation='relu')(x)\n",
    "x = Dropout(0.2)(x)\n",
    "x = Dense(512, activation='relu')(x)\n",
    "output = Dense(5, activation='softmax')(x)\n",
    "\n",
    "# Construct the model\n",
    "model = Model(inputs=input_img, outputs=output)\n",
    "\n",
    "# Summary of the model\n",
    "# model.summary()\n",
    "\n",
    "# Compile the model\n",
    "adam = Adam(learning_rate=0.001)\n",
    "model.compile(optimizer=adam, loss='categorical_crossentropy', metrics=['accuracy', precision_m, recall_m, f1_m])\n",
    "\n",
    "# Train the model\n",
    "graph = model.fit(train_generator, epochs=25, validation_data=validation_generator)\n",
    "\n",
    "# Save the model\n",
    "model.save(\"/Users/hardikchhipa/Desktop/DR-Arvind/saved_models/used_models/MobileNetV2_model.h5\")\n",
    "\n",
    "# Print the results\n",
    "print(graph.history)"
   ]
  },
  {
   "cell_type": "code",
   "execution_count": 5,
   "metadata": {},
   "outputs": [
    {
     "data": {
      "image/png": "[encoded data removed]",
      "text/plain": [
       "<Figure size 640x480 with 1 Axes>"
      ]
     },
     "metadata": {},
     "output_type": "display_data"
    }
   ],
   "source": [
    "import matplotlib.pyplot as plt\n",
    "\n",
    "fig1 = plt.gcf()\n",
    "\n",
    "plt.plot(graph.history['accuracy'])\n",
    "plt.plot(graph.history['val_accuracy'])\n",
    "\n",
    "# plt.axis(ymin=0.4, ymax=1)\n",
    "plt.grid()\n",
    "\n",
    "plt.title('DenseNet201 Accuracy for DR Dataset')\n",
    "plt.ylabel('Accuracy')\n",
    "plt.xlabel('Epochs')\n",
    "plt.legend(['train','validation'])\n",
    "\n",
    "plt.show()"
   ]
  },
  {
   "cell_type": "code",
   "execution_count": 6,
   "metadata": {},
   "outputs": [
    {
     "data": {
      "image/png": "[encoded data removed]",
      "text/plain": [
       "<Figure size 640x480 with 1 Axes>"
      ]
     },
     "metadata": {},
     "output_type": "display_data"
    }
   ],
   "source": [
    "import matplotlib.pyplot as plt\n",
    "\n",
    "fig1 = plt.gcf()\n",
    "\n",
    "plt.plot(graph.history['loss'])\n",
    "plt.plot(graph.history['val_loss'])\n",
    "\n",
    "# plt.axis(ymin=0.4, ymax=1)\n",
    "plt.grid()\n",
    "\n",
    "plt.title('DenseNet201 Loss for DR Dataset')\n",
    "plt.ylabel('Loss')\n",
    "plt.xlabel('Epochs')\n",
    "plt.legend(['train','validation'])\n",
    "\n",
    "plt.show()"
   ]
  },
  {
   "cell_type": "code",
   "execution_count": null,
   "metadata": {},
   "outputs": [],
   "source": []
  }
 ],
 "metadata": {
  "kernelspec": {
   "display_name": "base",
   "language": "python",
   "name": "python3"
  },
  "language_info": {
   "codemirror_mode": {
    "name": "ipython",
    "version": 3
   },
   "file_extension": ".py",
   "mimetype": "text/x-python",
   "name": "python",
   "nbconvert_exporter": "python",
   "pygments_lexer": "ipython3",
   "version": "3.12.4"
  }
 },
 "nbformat": 4,
 "nbformat_minor": 2
}
