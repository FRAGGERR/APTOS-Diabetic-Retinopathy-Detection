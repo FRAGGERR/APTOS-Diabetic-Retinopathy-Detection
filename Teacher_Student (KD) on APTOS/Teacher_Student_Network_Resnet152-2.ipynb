{
 "cells": [
  {
   "cell_type": "code",
   "execution_count": 1,
   "metadata": {
    "colab": {
     "base_uri": "https://localhost:8080/"
    },
    "id": "Pue5ETcSjW0c",
    "outputId": "73a7680d-a4b8-453b-9825-59ab61ae36e1",
    "tags": []
   },
   "outputs": [],
   "source": [
    "import tensorflow as tf\n",
    "from tensorflow.keras import backend as K\n",
    "from tensorflow.keras.models import Model\n",
    "from tensorflow.keras.layers import Flatten, Dense, Dropout, Input\n",
    "from tensorflow.keras.optimizers import Adam\n",
    "from tensorflow.keras.applications import ResNet152  # Updated to ResNet152\n",
    "\n",
    "###\n",
    "import tensorflow as tf\n",
    "from tensorflow.keras import layers, models, optimizers, callbacks\n",
    "from tensorflow.keras.applications import ResNet152  # Updated to ResNet152\n",
    "from tensorflow.keras.preprocessing.image import ImageDataGenerator\n"
   ]
  },
  {
   "cell_type": "markdown",
   "metadata": {
    "id": "z8MG7D9lrjb7"
   },
   "source": [
    "Distiller Class"
   ]
  },
  {
   "cell_type": "code",
   "execution_count": 2,
   "metadata": {
    "id": "QHgbeZourpd0",
    "tags": []
   },
   "outputs": [],
   "source": [
    "class Distiller(tf.keras.Model):\n",
    "    def __init__(self, student, teacher):\n",
    "        super(Distiller, self).__init__()\n",
    "        self.teacher = teacher\n",
    "        self.student = student\n",
    "\n",
    "    def compile(\n",
    "        self,\n",
    "        optimizer,\n",
    "        metrics,\n",
    "        student_loss_fn,\n",
    "        distillation_loss_fn,\n",
    "        alpha=0.1,\n",
    "        temperature=3,\n",
    "    ):\n",
    "        \"\"\" Configure the distiller.\n",
    "\n",
    "        Args:\n",
    "            optimizer: Keras optimizer for the student weights\n",
    "            metrics: Keras metrics for evaluation\n",
    "            student_loss_fn: Loss function of difference between student\n",
    "                predictions and ground-truth\n",
    "            distillation_loss_fn: Loss function of difference between soft\n",
    "                student predictions and soft teacher predictions\n",
    "            alpha: weight to student_loss_fn and 1-alpha to distillation_loss_fn\n",
    "            temperature: Temperature for softening probability distributions.\n",
    "                Larger temperature gives softer distributions.\n",
    "        \"\"\"\n",
    "        super(Distiller, self).compile(optimizer=optimizer, metrics=metrics)\n",
    "        self.student_loss_fn = student_loss_fn\n",
    "        self.distillation_loss_fn = distillation_loss_fn\n",
    "        self.alpha = alpha\n",
    "        self.temperature = temperature\n",
    "\n",
    "    def train_step(self, data):\n",
    "        # Unpack data\n",
    "        x, y = data\n",
    "\n",
    "        # Forward pass of teacher\n",
    "        teacher_predictions = self.teacher(x, training=False)\n",
    "\n",
    "        with tf.GradientTape() as tape:\n",
    "            # Forward pass of student\n",
    "            student_predictions = self.student(x, training=True)\n",
    "\n",
    "            # Compute losses\n",
    "            student_loss = self.student_loss_fn(y, student_predictions)\n",
    "\n",
    "            # Compute scaled distillation loss from https://arxiv.org/abs/1503.02531\n",
    "            # The magnitudes of the gradients produced by the soft targets scale\n",
    "            # as 1/T^2, multiply them by T^2 when using both hard and soft targets.\n",
    "            distillation_loss = (\n",
    "                self.distillation_loss_fn(\n",
    "                    tf.nn.softmax(teacher_predictions / self.temperature, axis=1),\n",
    "                    tf.nn.softmax(student_predictions / self.temperature, axis=1),\n",
    "                )\n",
    "                * self.temperature**2\n",
    "            )\n",
    "\n",
    "            loss = self.alpha * student_loss + (1 - self.alpha) * distillation_loss\n",
    "\n",
    "        # Compute gradients\n",
    "        trainable_vars = self.student.trainable_variables\n",
    "        gradients = tape.gradient(loss, trainable_vars)\n",
    "\n",
    "        # Update weights\n",
    "        self.optimizer.apply_gradients(zip(gradients, trainable_vars))\n",
    "\n",
    "        # Update the metrics configured in `compile()`.\n",
    "        self.compiled_metrics.update_state(y, student_predictions)\n",
    "\n",
    "        # Return a dict of performance\n",
    "        results = {m.name: m.result() for m in self.metrics}\n",
    "        results.update(\n",
    "            {\"student_loss\": student_loss, \"distillation_loss\": distillation_loss}\n",
    "        )\n",
    "        return results\n",
    "\n",
    "    def test_step(self, data):\n",
    "        # Unpack the data\n",
    "        x, y = data\n",
    "\n",
    "        # Compute predictions\n",
    "        y_prediction = self.student(x, training=False)\n",
    "\n",
    "        # Calculate the loss\n",
    "        student_loss = self.student_loss_fn(y, y_prediction)\n",
    "\n",
    "        # Update the metrics.\n",
    "        self.compiled_metrics.update_state(y, y_prediction)\n",
    "\n",
    "        # Return a dict of performance\n",
    "        results = {m.name: m.result() for m in self.metrics}\n",
    "        results.update({\"student_loss\": student_loss})\n",
    "        return results"
   ]
  },
  {
   "cell_type": "markdown",
   "metadata": {
    "id": "wyZ64m6Fr_Jp"
   },
   "source": [
    "Creating Teacher and Student Model"
   ]
  },
  {
   "cell_type": "code",
   "execution_count": null,
   "metadata": {
    "id": "k_rryJTb0HEF"
   },
   "outputs": [],
   "source": []
  },
  {
   "cell_type": "code",
   "execution_count": 3,
   "metadata": {
    "colab": {
     "base_uri": "https://localhost:8080/"
    },
    "id": "I1UNXHvkn83h",
    "outputId": "6ddec359-aa2c-4557-9cea-cd14ffe73b18",
    "tags": []
   },
   "outputs": [
    {
     "name": "stdout",
     "output_type": "stream",
     "text": [
      "Model: \"sequential_1\"\n",
      "_________________________________________________________________\n",
      " Layer (type)                Output Shape              Param #   \n",
      "=================================================================\n",
      " conv2d_94 (Conv2D)          (None, 112, 112, 16)      1216      \n",
      "                                                                 \n",
      " re_lu (ReLU)                (None, 112, 112, 16)      0         \n",
      "                                                                 \n",
      " max_pooling2d_4 (MaxPoolin  (None, 56, 56, 16)        0         \n",
      " g2D)                                                            \n",
      "                                                                 \n",
      " conv2d_95 (Conv2D)          (None, 28, 28, 32)        4640      \n",
      "                                                                 \n",
      " re_lu_1 (ReLU)              (None, 28, 28, 32)        0         \n",
      "                                                                 \n",
      " max_pooling2d_5 (MaxPoolin  (None, 14, 14, 32)        0         \n",
      " g2D)                                                            \n",
      "                                                                 \n",
      " conv2d_96 (Conv2D)          (None, 7, 7, 48)          13872     \n",
      "                                                                 \n",
      " re_lu_2 (ReLU)              (None, 7, 7, 48)          0         \n",
      "                                                                 \n",
      " max_pooling2d_6 (MaxPoolin  (None, 4, 4, 48)          0         \n",
      " g2D)                                                            \n",
      "                                                                 \n",
      " conv2d_97 (Conv2D)          (None, 2, 2, 64)          27712     \n",
      "                                                                 \n",
      " re_lu_3 (ReLU)              (None, 2, 2, 64)          0         \n",
      "                                                                 \n",
      " max_pooling2d_7 (MaxPoolin  (None, 1, 1, 64)          0         \n",
      " g2D)                                                            \n",
      "                                                                 \n",
      " conv2d_98 (Conv2D)          (None, 1, 1, 128)         73856     \n",
      "                                                                 \n",
      " re_lu_4 (ReLU)              (None, 1, 1, 128)         0         \n",
      "                                                                 \n",
      " max_pooling2d_8 (MaxPoolin  (None, 1, 1, 128)         0         \n",
      " g2D)                                                            \n",
      "                                                                 \n",
      " conv2d_99 (Conv2D)          (None, 1, 1, 64)          73792     \n",
      "                                                                 \n",
      " re_lu_5 (ReLU)              (None, 1, 1, 64)          0         \n",
      "                                                                 \n",
      " max_pooling2d_9 (MaxPoolin  (None, 1, 1, 64)          0         \n",
      " g2D)                                                            \n",
      "                                                                 \n",
      " flatten (Flatten)           (None, 64)                0         \n",
      "                                                                 \n",
      " dense_3 (Dense)             (None, 600)               39000     \n",
      "                                                                 \n",
      " dense_4 (Dense)             (None, 300)               180300    \n",
      "                                                                 \n",
      " dense_5 (Dense)             (None, 150)               45150     \n",
      "                                                                 \n",
      " dense_6 (Dense)             (None, 5)                 755       \n",
      "                                                                 \n",
      "=================================================================\n",
      "Total params: 460293 (1.76 MB)\n",
      "Trainable params: 460293 (1.76 MB)\n",
      "Non-trainable params: 0 (0.00 Byte)\n",
      "_________________________________________________________________\n",
      "Found 2931 images belonging to 5 classes.\n",
      "Found 731 images belonging to 5 classes.\n"
     ]
    }
   ],
   "source": [
    "import tensorflow as tf\n",
    "from tensorflow.keras import layers, models, optimizers\n",
    "from tensorflow.keras.applications import InceptionV3\n",
    "from tensorflow.keras.preprocessing.image import ImageDataGenerator\n",
    "\n",
    "# Define InceptionV3 base model\n",
    "inceptionv3_base = InceptionV3(weights='imagenet', include_top=False, input_shape=(224, 224, 3))\n",
    "\n",
    "# Create the teacher model\n",
    "teacher = models.Sequential([\n",
    "    inceptionv3_base,                   # InceptionV3 base model\n",
    "    layers.GlobalAveragePooling2D(),   # Reduces dimensionality (spatial pooling)\n",
    "    layers.Dropout(0.2),               # Dropout to prevent overfitting\n",
    "    layers.Dense(1024, activation='relu'), # Fully connected layer with ReLU activation\n",
    "    layers.Dropout(0.2),               # Dropout\n",
    "    layers.Dense(512, activation='relu'),  # Another dense layer with ReLU\n",
    "    layers.Dense(5, activation='softmax')  # Final output layer (assuming 5 classes)\n",
    "])\n",
    "\n",
    "# Create the student model\n",
    "student = models.Sequential([\n",
    "    layers.Input(shape=(224, 224, 3)),\n",
    "    layers.Conv2D(16, (5, 5), strides=(2, 2), padding=\"same\"),\n",
    "    layers.ReLU(),\n",
    "    layers.MaxPooling2D(pool_size=(2, 2), strides=(2, 2), padding=\"same\"),\n",
    "\n",
    "    layers.Conv2D(32, (3, 3), strides=(2, 2), padding=\"same\"),\n",
    "    layers.ReLU(),\n",
    "    layers.MaxPooling2D(pool_size=(2, 2), strides=(2, 2), padding=\"same\"),\n",
    "\n",
    "    layers.Conv2D(48, (3, 3), strides=(2, 2), padding=\"same\"),\n",
    "    layers.ReLU(),\n",
    "    layers.MaxPooling2D(pool_size=(2, 2), strides=(2, 2), padding=\"same\"),\n",
    "\n",
    "    layers.Conv2D(64, (3, 3), strides=(2, 2), padding=\"same\"),\n",
    "    layers.ReLU(),\n",
    "    layers.MaxPooling2D(pool_size=(2, 2), strides=(2, 2), padding=\"same\"),\n",
    "\n",
    "    layers.Conv2D(128, (3, 3), strides=(1, 1), padding=\"same\"),\n",
    "    layers.ReLU(),\n",
    "    layers.MaxPooling2D(pool_size=(2, 2), strides=(2, 2), padding=\"same\"),\n",
    "\n",
    "    layers.Conv2D(64, (3, 3), strides=(2, 2), padding=\"same\"),\n",
    "    layers.ReLU(),\n",
    "    layers.MaxPooling2D(pool_size=(2, 2), strides=(2, 2), padding=\"same\"),\n",
    "\n",
    "    layers.Flatten(),\n",
    "    layers.Dense(600, activation='relu'),\n",
    "    layers.Dense(300, activation='relu'),\n",
    "    layers.Dense(150, activation='relu'),\n",
    "    layers.Dense(5, activation='softmax')\n",
    "])\n",
    "\n",
    "student.summary()\n",
    "\n",
    "# Clone the student model for scratch training comparison\n",
    "student_scratch = models.clone_model(student)\n",
    "\n",
    "# Image data generators\n",
    "train_datagen_with_aug = ImageDataGenerator(\n",
    "    rescale=1./255,\n",
    "    shear_range=0.2,\n",
    "    zoom_range=0.2,\n",
    "    horizontal_flip=True,\n",
    "    validation_split=0.2\n",
    ")\n",
    "\n",
    "train_generator = train_datagen_with_aug.flow_from_directory(\n",
    "    '/Users/janeniej/Downloads/aptos2019-blindness-detection/train_split',  # Updated path\n",
    "    target_size=(224, 224),\n",
    "    batch_size=32,\n",
    "    class_mode='sparse',\n",
    "    subset='training'\n",
    ")\n",
    "\n",
    "validation_generator = train_datagen_with_aug.flow_from_directory(\n",
    "    '/Users/janeniej/Downloads/aptos2019-blindness-detection/train_split',  # Updated path\n",
    "    target_size=(224, 224),\n",
    "    batch_size=32,\n",
    "    class_mode='sparse',\n",
    "    subset='validation'\n",
    ")\n"
   ]
  },
  {
   "cell_type": "code",
   "execution_count": 4,
   "metadata": {
    "id": "eyQ-FL5QikR7",
    "tags": []
   },
   "outputs": [
    {
     "name": "stdout",
     "output_type": "stream",
     "text": [
      "Epoch 1/25\n"
     ]
    },
    {
     "name": "stderr",
     "output_type": "stream",
     "text": [
      "/Users/janeniej/anaconda3/lib/python3.11/site-packages/keras/src/backend.py:5727: UserWarning: \"`sparse_categorical_crossentropy` received `from_logits=True`, but the `output` argument was produced by a Softmax activation and thus does not represent logits. Was this intended?\n",
      "  output, from_logits = _get_logits(\n"
     ]
    },
    {
     "name": "stdout",
     "output_type": "stream",
     "text": [
      "92/92 [==============================] - 214s 2s/step - sparse_categorical_accuracy: 0.4869 - student_loss: 1.2985 - distillation_loss: 0.0132 - val_sparse_categorical_accuracy: 0.4966 - val_student_loss: 1.0662\n",
      "Epoch 2/25\n",
      "92/92 [==============================] - 209s 2s/step - sparse_categorical_accuracy: 0.6656 - student_loss: 1.0233 - distillation_loss: 0.0212 - val_sparse_categorical_accuracy: 0.6936 - val_student_loss: 1.2558\n",
      "Epoch 3/25\n",
      "92/92 [==============================] - 208s 2s/step - sparse_categorical_accuracy: 0.7052 - student_loss: 0.9596 - distillation_loss: 0.0225 - val_sparse_categorical_accuracy: 0.7045 - val_student_loss: 0.9136\n",
      "Epoch 4/25\n",
      "92/92 [==============================] - 211s 2s/step - sparse_categorical_accuracy: 0.7052 - student_loss: 0.9516 - distillation_loss: 0.0231 - val_sparse_categorical_accuracy: 0.7018 - val_student_loss: 0.8348\n",
      "Epoch 5/25\n",
      "92/92 [==============================] - 210s 2s/step - sparse_categorical_accuracy: 0.7120 - student_loss: 0.9459 - distillation_loss: 0.0230 - val_sparse_categorical_accuracy: 0.7127 - val_student_loss: 0.9998\n",
      "Epoch 6/25\n",
      "92/92 [==============================] - 206s 2s/step - sparse_categorical_accuracy: 0.7155 - student_loss: 0.9314 - distillation_loss: 0.0234 - val_sparse_categorical_accuracy: 0.7004 - val_student_loss: 0.9914\n",
      "Epoch 7/25\n",
      "92/92 [==============================] - 208s 2s/step - sparse_categorical_accuracy: 0.7137 - student_loss: 0.9347 - distillation_loss: 0.0236 - val_sparse_categorical_accuracy: 0.7182 - val_student_loss: 0.9298\n",
      "Epoch 8/25\n",
      "92/92 [==============================] - 209s 2s/step - sparse_categorical_accuracy: 0.7158 - student_loss: 0.9248 - distillation_loss: 0.0237 - val_sparse_categorical_accuracy: 0.7155 - val_student_loss: 0.9042\n",
      "Epoch 9/25\n",
      "92/92 [==============================] - 209s 2s/step - sparse_categorical_accuracy: 0.7178 - student_loss: 0.9091 - distillation_loss: 0.0240 - val_sparse_categorical_accuracy: 0.7168 - val_student_loss: 0.8637\n",
      "Epoch 10/25\n",
      "92/92 [==============================] - 210s 2s/step - sparse_categorical_accuracy: 0.7155 - student_loss: 0.9225 - distillation_loss: 0.0235 - val_sparse_categorical_accuracy: 0.7155 - val_student_loss: 0.9332\n",
      "Epoch 11/25\n",
      "92/92 [==============================] - 210s 2s/step - sparse_categorical_accuracy: 0.7185 - student_loss: 0.9099 - distillation_loss: 0.0237 - val_sparse_categorical_accuracy: 0.7045 - val_student_loss: 0.9126\n",
      "Epoch 12/25\n",
      "92/92 [==============================] - 209s 2s/step - sparse_categorical_accuracy: 0.7189 - student_loss: 0.9064 - distillation_loss: 0.0244 - val_sparse_categorical_accuracy: 0.7073 - val_student_loss: 0.7218\n",
      "Epoch 13/25\n",
      "92/92 [==============================] - 212s 2s/step - sparse_categorical_accuracy: 0.7213 - student_loss: 0.9006 - distillation_loss: 0.0239 - val_sparse_categorical_accuracy: 0.7114 - val_student_loss: 0.8974\n",
      "Epoch 14/25\n",
      "92/92 [==============================] - 210s 2s/step - sparse_categorical_accuracy: 0.7209 - student_loss: 0.9046 - distillation_loss: 0.0239 - val_sparse_categorical_accuracy: 0.7209 - val_student_loss: 1.0845\n",
      "Epoch 15/25\n",
      "92/92 [==============================] - 209s 2s/step - sparse_categorical_accuracy: 0.7199 - student_loss: 0.9001 - distillation_loss: 0.0239 - val_sparse_categorical_accuracy: 0.7196 - val_student_loss: 0.9943\n",
      "Epoch 16/25\n",
      "92/92 [==============================] - 209s 2s/step - sparse_categorical_accuracy: 0.7202 - student_loss: 0.9030 - distillation_loss: 0.0240 - val_sparse_categorical_accuracy: 0.7196 - val_student_loss: 0.7934\n",
      "Epoch 17/25\n",
      "92/92 [==============================] - 212s 2s/step - sparse_categorical_accuracy: 0.7226 - student_loss: 0.8945 - distillation_loss: 0.0241 - val_sparse_categorical_accuracy: 0.7155 - val_student_loss: 0.9054\n",
      "Epoch 18/25\n",
      "92/92 [==============================] - 209s 2s/step - sparse_categorical_accuracy: 0.7213 - student_loss: 0.8927 - distillation_loss: 0.0243 - val_sparse_categorical_accuracy: 0.7196 - val_student_loss: 0.7663\n",
      "Epoch 19/25\n",
      "92/92 [==============================] - 210s 2s/step - sparse_categorical_accuracy: 0.7178 - student_loss: 0.8891 - distillation_loss: 0.0241 - val_sparse_categorical_accuracy: 0.7086 - val_student_loss: 0.9410\n",
      "Epoch 20/25\n",
      "92/92 [==============================] - 208s 2s/step - sparse_categorical_accuracy: 0.7195 - student_loss: 0.8883 - distillation_loss: 0.0243 - val_sparse_categorical_accuracy: 0.7141 - val_student_loss: 0.7554\n",
      "Epoch 21/25\n",
      "92/92 [==============================] - 210s 2s/step - sparse_categorical_accuracy: 0.7230 - student_loss: 0.8783 - distillation_loss: 0.0242 - val_sparse_categorical_accuracy: 0.7141 - val_student_loss: 1.1302\n",
      "Epoch 22/25\n",
      "92/92 [==============================] - 207s 2s/step - sparse_categorical_accuracy: 0.7223 - student_loss: 0.8966 - distillation_loss: 0.0247 - val_sparse_categorical_accuracy: 0.7291 - val_student_loss: 0.8035\n",
      "Epoch 23/25\n",
      "92/92 [==============================] - 207s 2s/step - sparse_categorical_accuracy: 0.7223 - student_loss: 0.8851 - distillation_loss: 0.0243 - val_sparse_categorical_accuracy: 0.6949 - val_student_loss: 0.9848\n",
      "Epoch 24/25\n",
      "92/92 [==============================] - 208s 2s/step - sparse_categorical_accuracy: 0.7267 - student_loss: 0.8679 - distillation_loss: 0.0250 - val_sparse_categorical_accuracy: 0.7182 - val_student_loss: 0.8212\n",
      "Epoch 25/25\n",
      "92/92 [==============================] - 208s 2s/step - sparse_categorical_accuracy: 0.7288 - student_loss: 0.8757 - distillation_loss: 0.0245 - val_sparse_categorical_accuracy: 0.7264 - val_student_loss: 0.7586\n"
     ]
    },
    {
     "data": {
      "text/plain": [
       "<keras.src.callbacks.History at 0x30ff02910>"
      ]
     },
     "execution_count": 4,
     "metadata": {},
     "output_type": "execute_result"
    }
   ],
   "source": [
    "import tensorflow as tf\n",
    "from tensorflow import keras # Import the keras module\n",
    "\n",
    "#Initialize and compile distiller\n",
    "distiller = Distiller(student=student, teacher=teacher)\n",
    "distiller.compile(\n",
    "    optimizer=keras.optimizers.Adam(),\n",
    "    metrics=[keras.metrics.SparseCategoricalAccuracy()],\n",
    "    student_loss_fn=keras.losses.SparseCategoricalCrossentropy(from_logits=True),\n",
    "    distillation_loss_fn=keras.losses.KLDivergence(),\n",
    "    alpha=0.1,\n",
    "    temperature=6,\n",
    ")\n",
    "\n",
    "# Distill teacher to student\n",
    "graph=distiller.fit(train_generator, epochs=25, validation_data = validation_generator)\n",
    "graph\n",
    "\n",
    "# Evaluate student on test dataset\n",
    "#distiller.evaluate(train_generator, epochs=15, validation_data = validation_generator)"
   ]
  },
  {
   "cell_type": "markdown",
   "metadata": {
    "id": "CVkFoX6Msl4H"
   },
   "source": [
    "Train the Teacher Network and Distill the Teacher weights to Student"
   ]
  },
  {
   "cell_type": "code",
   "execution_count": null,
   "metadata": {
    "id": "GzQjS5y-FE02"
   },
   "outputs": [],
   "source": []
  },
  {
   "cell_type": "code",
   "execution_count": 5,
   "metadata": {
    "colab": {
     "base_uri": "https://localhost:8080/",
     "height": 268
    },
    "id": "1mIIoSYp115J",
    "outputId": "c194ce2f-fb7d-4c26-c626-3986e7a8433b",
    "tags": []
   },
   "outputs": [
    {
     "data": {
      "image/png": "[encoded data removed]",
      "text/plain": [
       "<Figure size 640x480 with 1 Axes>"
      ]
     },
     "metadata": {},
     "output_type": "display_data"
    }
   ],
   "source": [
    "import matplotlib.pyplot as plt\n",
    "\n",
    "fig1 = plt.gcf()\n",
    "\n",
    "plt.plot(graph.history['sparse_categorical_accuracy'])\n",
    "plt.plot(graph.history['val_sparse_categorical_accuracy'])\n",
    "\n",
    "# plt.axis(ymin=0.4, ymax=1)\n",
    "plt.grid()\n",
    "\n",
    "plt.title('OSPS-MicroNet model Accuracy to its teacher resnet152')\n",
    "plt.ylabel('Accuracy')\n",
    "plt.xlabel('Epochs')\n",
    "plt.legend(['train','validation'])\n",
    "\n",
    "plt.show()"
   ]
  },
  {
   "cell_type": "code",
   "execution_count": 6,
   "metadata": {
    "colab": {
     "base_uri": "https://localhost:8080/",
     "height": 197
    },
    "id": "M5komxG_zgBG",
    "outputId": "4170f11d-e9c3-413a-a026-6d138334f34d",
    "tags": []
   },
   "outputs": [
    {
     "name": "stdout",
     "output_type": "stream",
     "text": [
      "The highest accuracy achieved for OSPS-MicroNet model Accuracy to its teacher resnet152 model is 72.9138195514679\n"
     ]
    }
   ],
   "source": [
    "max_acc = max(graph.history['val_sparse_categorical_accuracy'])\n",
    "print('The highest accuracy achieved for OSPS-MicroNet model Accuracy to its teacher resnet152 model is',max_acc*100)"
   ]
  },
  {
   "cell_type": "code",
   "execution_count": null,
   "metadata": {},
   "outputs": [],
   "source": []
  }
 ],
 "metadata": {
  "accelerator": "TPU",
  "colab": {
   "gpuClass": "premium",
   "machine_shape": "hm",
   "provenance": []
  },
  "gpuClass": "premium",
  "kernelspec": {
   "display_name": "Python 3 (ipykernel)",
   "language": "python",
   "name": "python3"
  },
  "language_info": {
   "codemirror_mode": {
    "name": "ipython",
    "version": 3
   },
   "file_extension": ".py",
   "mimetype": "text/x-python",
   "name": "python",
   "nbconvert_exporter": "python",
   "pygments_lexer": "ipython3",
   "version": "3.11.5"
  }
 },
 "nbformat": 4,
 "nbformat_minor": 4
}
